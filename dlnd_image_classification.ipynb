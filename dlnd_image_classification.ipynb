{
 "cells": [
  {
   "cell_type": "markdown",
   "metadata": {
    "collapsed": true
   },
   "source": [
    "# Image Classification\n",
    "In this project, you'll classify images from the [CIFAR-10 dataset](https://www.cs.toronto.edu/~kriz/cifar.html).  The dataset consists of airplanes, dogs, cats, and other objects. You'll preprocess the images, then train a convolutional neural network on all the samples. The images need to be normalized and the labels need to be one-hot encoded.  You'll get to apply what you learned and build a convolutional, max pooling, dropout, and fully connected layers.  At the end, you'll get to see your neural network's predictions on the sample images.\n",
    "## Get the Data\n",
    "Run the following cell to download the [CIFAR-10 dataset for python](https://www.cs.toronto.edu/~kriz/cifar-10-python.tar.gz)."
   ]
  },
  {
   "cell_type": "code",
   "execution_count": 1,
   "metadata": {
    "collapsed": false
   },
   "outputs": [
    {
     "name": "stderr",
     "output_type": "stream",
     "text": [
      "CIFAR-10 Dataset: 171MB [00:40, 4.18MB/s]                              \n"
     ]
    },
    {
     "name": "stdout",
     "output_type": "stream",
     "text": [
      "All files found!\n"
     ]
    }
   ],
   "source": [
    "\"\"\"\n",
    "DON'T MODIFY ANYTHING IN THIS CELL THAT IS BELOW THIS LINE\n",
    "\"\"\"\n",
    "from urllib.request import urlretrieve\n",
    "from os.path import isfile, isdir\n",
    "from tqdm import tqdm\n",
    "import problem_unittests as tests\n",
    "import tarfile\n",
    "\n",
    "cifar10_dataset_folder_path = 'cifar-10-batches-py'\n",
    "\n",
    "class DLProgress(tqdm):\n",
    "    last_block = 0\n",
    "\n",
    "    def hook(self, block_num=1, block_size=1, total_size=None):\n",
    "        self.total = total_size\n",
    "        self.update((block_num - self.last_block) * block_size)\n",
    "        self.last_block = block_num\n",
    "\n",
    "if not isfile('cifar-10-python.tar.gz'):\n",
    "    with DLProgress(unit='B', unit_scale=True, miniters=1, desc='CIFAR-10 Dataset') as pbar:\n",
    "        urlretrieve(\n",
    "            'https://www.cs.toronto.edu/~kriz/cifar-10-python.tar.gz',\n",
    "            'cifar-10-python.tar.gz',\n",
    "            pbar.hook)\n",
    "\n",
    "if not isdir(cifar10_dataset_folder_path):\n",
    "    with tarfile.open('cifar-10-python.tar.gz') as tar:\n",
    "        tar.extractall()\n",
    "        tar.close()\n",
    "\n",
    "\n",
    "tests.test_folder_path(cifar10_dataset_folder_path)"
   ]
  },
  {
   "cell_type": "markdown",
   "metadata": {},
   "source": [
    "## Explore the Data\n",
    "The dataset is broken into batches to prevent your machine from running out of memory.  The CIFAR-10 dataset consists of 5 batches, named `data_batch_1`, `data_batch_2`, etc.. Each batch contains the labels and images that are one of the following:\n",
    "* airplane\n",
    "* automobile\n",
    "* bird\n",
    "* cat\n",
    "* deer\n",
    "* dog\n",
    "* frog\n",
    "* horse\n",
    "* ship\n",
    "* truck\n",
    "\n",
    "Understanding a dataset is part of making predictions on the data.  Play around with the code cell below by changing the `batch_id` and `sample_id`. The `batch_id` is the id for a batch (1-5). The `sample_id` is the id for a image and label pair in the batch.\n",
    "\n",
    "Ask yourself \"What are all possible labels?\", \"What is the range of values for the image data?\", \"Are the labels in order or random?\".  Answers to questions like these will help you preprocess the data and end up with better predictions."
   ]
  },
  {
   "cell_type": "code",
   "execution_count": 19,
   "metadata": {
    "collapsed": false
   },
   "outputs": [
    {
     "name": "stdout",
     "output_type": "stream",
     "text": [
      "\n",
      "Stats of batch 5:\n",
      "Samples: 10000\n",
      "Label Counts: {0: 1014, 1: 1014, 2: 952, 3: 1016, 4: 997, 5: 1025, 6: 980, 7: 977, 8: 1003, 9: 1022}\n",
      "First 20 Labels: [1, 8, 5, 1, 5, 7, 4, 3, 8, 2, 7, 2, 0, 1, 5, 9, 6, 2, 0, 8]\n",
      "\n",
      "Example of Image 12:\n",
      "Image - Min Value: 47 Max Value: 255\n",
      "Image - Shape: (32, 32, 3)\n",
      "Label - Label Id: 0 Name: airplane\n"
     ]
    },
    {
     "data": {
      "image/png": "[encoded data removed]",
      "text/plain": [
       "<matplotlib.figure.Figure at 0x7f844027da20>"
      ]
     },
     "metadata": {
      "image/png": {
       "height": 250,
       "width": 253
      }
     },
     "output_type": "display_data"
    }
   ],
   "source": [
    "%matplotlib inline\n",
    "%config InlineBackend.figure_format = 'retina'\n",
    "\n",
    "import helper\n",
    "import numpy as np\n",
    "\n",
    "# Explore the dataset\n",
    "batch_id = 5\n",
    "sample_id = 12\n",
    "helper.display_stats(cifar10_dataset_folder_path, batch_id, sample_id)"
   ]
  },
  {
   "cell_type": "markdown",
   "metadata": {},
   "source": [
    "## Implement Preprocess Functions\n",
    "### Normalize\n",
    "In the cell below, implement the `normalize` function to take in image data, `x`, and return it as a normalized Numpy array. The values should be in the range of 0 to 1, inclusive.  The return object should be the same shape as `x`."
   ]
  },
  {
   "cell_type": "code",
   "execution_count": 26,
   "metadata": {
    "collapsed": false
   },
   "outputs": [
    {
     "name": "stdout",
     "output_type": "stream",
     "text": [
      "Tests Passed\n"
     ]
    }
   ],
   "source": [
    "def normalize(x):\n",
    "    \"\"\"\n",
    "    Normalize a list of sample image data in the range of 0 to 1\n",
    "    : x: List of image data.  The image shape is (32, 32, 3)\n",
    "    : return: Numpy array of normalize data\n",
    "    \"\"\"\n",
    "    # TODO: Implement Function\n",
    "    x_norm = (x/255)\n",
    "    return x_norm\n",
    "\n",
    "\n",
    "\"\"\"\n",
    "DON'T MODIFY ANYTHING IN THIS CELL THAT IS BELOW THIS LINE\n",
    "\"\"\"\n",
    "tests.test_normalize(normalize)"
   ]
  },
  {
   "cell_type": "markdown",
   "metadata": {},
   "source": [
    "### One-hot encode\n",
    "Just like the previous code cell, you'll be implementing a function for preprocessing.  This time, you'll implement the `one_hot_encode` function. The input, `x`, are a list of labels.  Implement the function to return the list of labels as One-Hot encoded Numpy array.  The possible values for labels are 0 to 9. The one-hot encoding function should return the same encoding for each value between each call to `one_hot_encode`.  Make sure to save the map of encodings outside the function.\n",
    "\n",
    "Hint: Don't reinvent the wheel."
   ]
  },
  {
   "cell_type": "code",
   "execution_count": 34,
   "metadata": {
    "collapsed": false
   },
   "outputs": [
    {
     "name": "stdout",
     "output_type": "stream",
     "text": [
      "Tests Passed\n"
     ]
    }
   ],
   "source": [
    "label_nr = {}\n",
    "\n",
    "def one_hot_encode(x):\n",
    "    \"\"\"\n",
    "    One hot encode a list of sample labels. Return a one-hot encoded vector for each label.\n",
    "    : x: List of sample Labels\n",
    "    : return: Numpy array of one-hot encoded labels\n",
    "    \"\"\"\n",
    "    # TODO: Implement Function\n",
    "    all = []\n",
    "    \n",
    "    for label in x:\n",
    "#        print(label)\n",
    "        \n",
    "        # create vector with zeros\n",
    "        lbl_vec = np.zeros(10)\n",
    "        \n",
    "        # for each unknown label increase encode value\n",
    "        if not label in label_nr:\n",
    "            label_nr[label] = len(label_nr)\n",
    "        \n",
    "        # set the appropriate value to 1.\n",
    "        lbl_vec[label_nr[label]] = 1.\n",
    "        \n",
    "        all.append(lbl_vec)\n",
    "    \n",
    "#    print(all)\n",
    "    return np.array(all)\n",
    "\n",
    "\n",
    "\"\"\"\n",
    "DON'T MODIFY ANYTHING IN THIS CELL THAT IS BELOW THIS LINE\n",
    "\"\"\"\n",
    "tests.test_one_hot_encode(one_hot_encode)"
   ]
  },
  {
   "cell_type": "markdown",
   "metadata": {},
   "source": [
    "### Randomize Data\n",
    "As you saw from exploring the data above, the order of the samples are randomized.  It doesn't hurt to randomize it again, but you don't need to for this dataset."
   ]
  },
  {
   "cell_type": "markdown",
   "metadata": {},
   "source": [
    "## Preprocess all the data and save it\n",
    "Running the code cell below will preprocess all the CIFAR-10 data and save it to file. The code below also uses 10% of the training data for validation."
   ]
  },
  {
   "cell_type": "code",
   "execution_count": 35,
   "metadata": {
    "collapsed": false
   },
   "outputs": [],
   "source": [
    "\"\"\"\n",
    "DON'T MODIFY ANYTHING IN THIS CELL\n",
    "\"\"\"\n",
    "# Preprocess Training, Validation, and Testing Data\n",
    "helper.preprocess_and_save_data(cifar10_dataset_folder_path, normalize, one_hot_encode)"
   ]
  },
  {
   "cell_type": "markdown",
   "metadata": {},
   "source": [
    "# Check Point\n",
    "This is your first checkpoint.  If you ever decide to come back to this notebook or have to restart the notebook, you can start from here.  The preprocessed data has been saved to disk."
   ]
  },
  {
   "cell_type": "code",
   "execution_count": 36,
   "metadata": {
    "collapsed": true
   },
   "outputs": [],
   "source": [
    "\"\"\"\n",
    "DON'T MODIFY ANYTHING IN THIS CELL\n",
    "\"\"\"\n",
    "import pickle\n",
    "import problem_unittests as tests\n",
    "import helper\n",
    "\n",
    "# Load the Preprocessed Validation data\n",
    "valid_features, valid_labels = pickle.load(open('preprocess_validation.p', mode='rb'))"
   ]
  },
  {
   "cell_type": "markdown",
   "metadata": {},
   "source": [
    "## Build the network\n",
    "For the neural network, you'll build each layer into a function.  Most of the code you've seen has been outside of functions. To test your code more thoroughly, we require that you put each layer in a function.  This allows us to give you better feedback and test for simple mistakes using our unittests before you submit your project.\n",
    "\n",
    ">**Note:** If you're finding it hard to dedicate enough time for this course each week, we've provided a small shortcut to this part of the project. In the next couple of problems, you'll have the option to use classes from the [TensorFlow Layers](https://www.tensorflow.org/api_docs/python/tf/layers) or [TensorFlow Layers (contrib)](https://www.tensorflow.org/api_guides/python/contrib.layers) packages to build each layer, except the layers you build in the \"Convolutional and Max Pooling Layer\" section.  TF Layers is similar to Keras's and TFLearn's abstraction to layers, so it's easy to pickup.\n",
    "\n",
    ">However, if you would like to get the most out of this course, try to solve all the problems _without_ using anything from the TF Layers packages. You **can** still use classes from other packages that happen to have the same name as ones you find in TF Layers! For example, instead of using the TF Layers version of the `conv2d` class, [tf.layers.conv2d](https://www.tensorflow.org/api_docs/python/tf/layers/conv2d), you would want to use the TF Neural Network version of `conv2d`, [tf.nn.conv2d](https://www.tensorflow.org/api_docs/python/tf/nn/conv2d). \n",
    "\n",
    "Let's begin!\n",
    "\n",
    "### Input\n",
    "The neural network needs to read the image data, one-hot encoded labels, and dropout keep probability. Implement the following functions\n",
    "* Implement `neural_net_image_input`\n",
    " * Return a [TF Placeholder](https://www.tensorflow.org/api_docs/python/tf/placeholder)\n",
    " * Set the shape using `image_shape` with batch size set to `None`.\n",
    " * Name the TensorFlow placeholder \"x\" using the TensorFlow `name` parameter in the [TF Placeholder](https://www.tensorflow.org/api_docs/python/tf/placeholder).\n",
    "* Implement `neural_net_label_input`\n",
    " * Return a [TF Placeholder](https://www.tensorflow.org/api_docs/python/tf/placeholder)\n",
    " * Set the shape using `n_classes` with batch size set to `None`.\n",
    " * Name the TensorFlow placeholder \"y\" using the TensorFlow `name` parameter in the [TF Placeholder](https://www.tensorflow.org/api_docs/python/tf/placeholder).\n",
    "* Implement `neural_net_keep_prob_input`\n",
    " * Return a [TF Placeholder](https://www.tensorflow.org/api_docs/python/tf/placeholder) for dropout keep probability.\n",
    " * Name the TensorFlow placeholder \"keep_prob\" using the TensorFlow `name` parameter in the [TF Placeholder](https://www.tensorflow.org/api_docs/python/tf/placeholder).\n",
    "\n",
    "These names will be used at the end of the project to load your saved model.\n",
    "\n",
    "Note: `None` for shapes in TensorFlow allow for a dynamic size."
   ]
  },
  {
   "cell_type": "code",
   "execution_count": 46,
   "metadata": {
    "collapsed": false
   },
   "outputs": [
    {
     "name": "stdout",
     "output_type": "stream",
     "text": [
      "Image Input Tests Passed.\n",
      "Label Input Tests Passed.\n",
      "Keep Prob Tests Passed.\n"
     ]
    }
   ],
   "source": [
    "import tensorflow as tf\n",
    "\n",
    "def neural_net_image_input(image_shape):\n",
    "    \"\"\"\n",
    "    Return a Tensor for a batch of image input\n",
    "    : image_shape: Shape of the images\n",
    "    : return: Tensor for image input.\n",
    "    \"\"\"\n",
    "    # TODO: Implement Function\n",
    "#    print(image_shape)\n",
    "    x = tf.placeholder(dtype=tf.float32, shape=[None, image_shape[0], image_shape[1], image_shape[2]], name='x')\n",
    "    return x\n",
    "\n",
    "\n",
    "def neural_net_label_input(n_classes):\n",
    "    \"\"\"\n",
    "    Return a Tensor for a batch of label input\n",
    "    : n_classes: Number of classes\n",
    "    : return: Tensor for label input.\n",
    "    \"\"\"\n",
    "    # TODO: Implement Function\n",
    "#    print(n_classes)\n",
    "    y = tf.placeholder(dtype=tf.float32, shape=[None, n_classes], name='y')\n",
    "    return y\n",
    "\n",
    "\n",
    "def neural_net_keep_prob_input():\n",
    "    \"\"\"\n",
    "    Return a Tensor for keep probability\n",
    "    : return: Tensor for keep probability.\n",
    "    \"\"\"\n",
    "    # TODO: Implement Function\n",
    "    keep_prob = tf.placeholder(dtype=tf.float32, name='keep_prob')\n",
    "    return keep_prob\n",
    "\n",
    "\n",
    "\"\"\"\n",
    "DON'T MODIFY ANYTHING IN THIS CELL THAT IS BELOW THIS LINE\n",
    "\"\"\"\n",
    "tf.reset_default_graph()\n",
    "tests.test_nn_image_inputs(neural_net_image_input)\n",
    "tests.test_nn_label_inputs(neural_net_label_input)\n",
    "tests.test_nn_keep_prob_inputs(neural_net_keep_prob_input)"
   ]
  },
  {
   "cell_type": "markdown",
   "metadata": {},
   "source": [
    "### Convolution and Max Pooling Layer\n",
    "Convolution layers have a lot of success with images. For this code cell, you should implement the function `conv2d_maxpool` to apply convolution then max pooling:\n",
    "* Create the weight and bias using `conv_ksize`, `conv_num_outputs` and the shape of `x_tensor`.\n",
    "* Apply a convolution to `x_tensor` using weight and `conv_strides`.\n",
    " * We recommend you use same padding, but you're welcome to use any padding.\n",
    "* Add bias\n",
    "* Add a nonlinear activation to the convolution.\n",
    "* Apply Max Pooling using `pool_ksize` and `pool_strides`.\n",
    " * We recommend you use same padding, but you're welcome to use any padding.\n",
    "\n",
    "**Note:** You **can't** use [TensorFlow Layers](https://www.tensorflow.org/api_docs/python/tf/layers) or [TensorFlow Layers (contrib)](https://www.tensorflow.org/api_guides/python/contrib.layers) for **this** layer, but you can still use TensorFlow's [Neural Network](https://www.tensorflow.org/api_docs/python/tf/nn) package. You may still use the shortcut option for all the **other** layers."
   ]
  },
  {
   "cell_type": "code",
   "execution_count": 131,
   "metadata": {
    "collapsed": false
   },
   "outputs": [
    {
     "name": "stdout",
     "output_type": "stream",
     "text": [
      "Tests Passed\n"
     ]
    }
   ],
   "source": [
    "def conv2d_maxpool(x_tensor, conv_num_outputs, conv_ksize, conv_strides, pool_ksize, pool_strides):\n",
    "    \"\"\"\n",
    "    Apply convolution then max pooling to x_tensor\n",
    "    :param x_tensor: TensorFlow Tensor\n",
    "    :param conv_num_outputs: Number of outputs for the convolutional layer\n",
    "    :param conv_ksize: kernal size 2-D Tuple for the convolutional layer\n",
    "    :param conv_strides: Stride 2-D Tuple for convolution\n",
    "    :param pool_ksize: kernal size 2-D Tuple for pool\n",
    "    :param pool_strides: Stride 2-D Tuple for pool\n",
    "    : return: A tensor that represents convolution and max pooling of x_tensor\n",
    "    \"\"\"\n",
    "    # TODO: Implement Function\n",
    "    weights = tf.Variable(tf.truncated_normal([conv_ksize[0], conv_ksize[0], x_tensor.get_shape().as_list()[3], conv_num_outputs], stddev=0.1))\n",
    "    bias = tf.Variable(tf.random_normal([conv_num_outputs]))\n",
    "    \n",
    "    # conv2d\n",
    "    x = tf.nn.conv2d(x_tensor, weights, strides=[1, conv_strides[0], conv_strides[1], 1], padding='SAME')\n",
    "    x = tf.nn.bias_add(x, bias)\n",
    "    x = tf.nn.relu(x)\n",
    "    \n",
    "    # max_pool\n",
    "    x = tf.nn.max_pool(x, ksize=[1, pool_ksize[0], pool_ksize[1], 1], strides=[1, pool_strides[0], pool_strides[1], 1], padding='SAME')\n",
    "    \n",
    "    return x \n",
    "\n",
    "\n",
    "\"\"\"\n",
    "DON'T MODIFY ANYTHING IN THIS CELL THAT IS BELOW THIS LINE\n",
    "\"\"\"\n",
    "tests.test_con_pool(conv2d_maxpool)"
   ]
  },
  {
   "cell_type": "markdown",
   "metadata": {},
   "source": [
    "### Flatten Layer\n",
    "Implement the `flatten` function to change the dimension of `x_tensor` from a 4-D tensor to a 2-D tensor.  The output should be the shape (*Batch Size*, *Flattened Image Size*). Shortcut option: you can use classes from the [TensorFlow Layers](https://www.tensorflow.org/api_docs/python/tf/layers) or [TensorFlow Layers (contrib)](https://www.tensorflow.org/api_guides/python/contrib.layers) packages for this layer. For more of a challenge, only use other TensorFlow packages."
   ]
  },
  {
   "cell_type": "code",
   "execution_count": 83,
   "metadata": {
    "collapsed": false
   },
   "outputs": [
    {
     "name": "stdout",
     "output_type": "stream",
     "text": [
      "Tests Passed\n"
     ]
    }
   ],
   "source": [
    "def flatten(x_tensor):\n",
    "    \"\"\"\n",
    "    Flatten x_tensor to (Batch Size, Flattened Image Size)\n",
    "    : x_tensor: A tensor of size (Batch Size, ...), where ... are the image dimensions.\n",
    "    : return: A tensor of size (Batch Size, Flattened Image Size).\n",
    "    \"\"\"\n",
    "    # TODO: Implement Function\n",
    "    shape = x_tensor.get_shape().as_list()\n",
    "    x_reshaped = tf.reshape(x_tensor, [-1, shape[1] * shape[2] * shape[3]])\n",
    "    \n",
    "#    print(x_reshaped.get_shape().as_list())\n",
    "    \n",
    "    return x_reshaped\n",
    "\n",
    "\n",
    "\"\"\"\n",
    "DON'T MODIFY ANYTHING IN THIS CELL THAT IS BELOW THIS LINE\n",
    "\"\"\"\n",
    "tests.test_flatten(flatten)"
   ]
  },
  {
   "cell_type": "markdown",
   "metadata": {},
   "source": [
    "### Fully-Connected Layer\n",
    "Implement the `fully_conn` function to apply a fully connected layer to `x_tensor` with the shape (*Batch Size*, *num_outputs*). Shortcut option: you can use classes from the [TensorFlow Layers](https://www.tensorflow.org/api_docs/python/tf/layers) or [TensorFlow Layers (contrib)](https://www.tensorflow.org/api_guides/python/contrib.layers) packages for this layer. For more of a challenge, only use other TensorFlow packages."
   ]
  },
  {
   "cell_type": "code",
   "execution_count": 139,
   "metadata": {
    "collapsed": false
   },
   "outputs": [
    {
     "name": "stdout",
     "output_type": "stream",
     "text": [
      "Tests Passed\n"
     ]
    }
   ],
   "source": [
    "def fully_conn(x_tensor, num_outputs):\n",
    "    \"\"\"\n",
    "    Apply a fully connected layer to x_tensor using weight and bias\n",
    "    : x_tensor: A 2-D tensor where the first dimension is batch size.\n",
    "    : num_outputs: The number of output that the new tensor should be.\n",
    "    : return: A 2-D tensor where the second dimension is num_outputs.\n",
    "    \"\"\"\n",
    "    # TODO: Implement Function\n",
    "    shape = x_tensor.get_shape().as_list()\n",
    "\n",
    "    weights = tf.Variable(tf.truncated_normal([shape[1], num_outputs], stddev=0.1))\n",
    "    bias = tf.Variable(tf.random_normal([num_outputs]))\n",
    "    \n",
    "    x = tf.add(tf.matmul(x_tensor, weights), bias)\n",
    "    \n",
    "    x = tf.nn.relu(x)\n",
    "    \n",
    "    return x\n",
    "\n",
    "\n",
    "\"\"\"\n",
    "DON'T MODIFY ANYTHING IN THIS CELL THAT IS BELOW THIS LINE\n",
    "\"\"\"\n",
    "tests.test_fully_conn(fully_conn)"
   ]
  },
  {
   "cell_type": "markdown",
   "metadata": {},
   "source": [
    "### Output Layer\n",
    "Implement the `output` function to apply a fully connected layer to `x_tensor` with the shape (*Batch Size*, *num_outputs*). Shortcut option: you can use classes from the [TensorFlow Layers](https://www.tensorflow.org/api_docs/python/tf/layers) or [TensorFlow Layers (contrib)](https://www.tensorflow.org/api_guides/python/contrib.layers) packages for this layer. For more of a challenge, only use other TensorFlow packages.\n",
    "\n",
    "**Note:** Activation, softmax, or cross entropy should **not** be applied to this."
   ]
  },
  {
   "cell_type": "code",
   "execution_count": 133,
   "metadata": {
    "collapsed": false
   },
   "outputs": [
    {
     "name": "stdout",
     "output_type": "stream",
     "text": [
      "Tests Passed\n"
     ]
    }
   ],
   "source": [
    "def output(x_tensor, num_outputs):\n",
    "    \"\"\"\n",
    "    Apply a output layer to x_tensor using weight and bias\n",
    "    : x_tensor: A 2-D tensor where the first dimension is batch size.\n",
    "    : num_outputs: The number of output that the new tensor should be.\n",
    "    : return: A 2-D tensor where the second dimension is num_outputs.\n",
    "    \"\"\"\n",
    "    # TODO: Implement Function\n",
    "    \n",
    "    shape = x_tensor.get_shape().as_list()\n",
    "\n",
    "    weights = tf.Variable(tf.truncated_normal([shape[1], num_outputs], stddev=0.1))\n",
    "    bias = tf.Variable(tf.random_normal([num_outputs]))\n",
    "    \n",
    "    x = tf.add(tf.matmul(x_tensor, weights), bias)\n",
    "    \n",
    "    return x\n",
    "\n",
    "\n",
    "\"\"\"\n",
    "DON'T MODIFY ANYTHING IN THIS CELL THAT IS BELOW THIS LINE\n",
    "\"\"\"\n",
    "tests.test_output(output)"
   ]
  },
  {
   "cell_type": "markdown",
   "metadata": {},
   "source": [
    "### Create Convolutional Model\n",
    "Implement the function `conv_net` to create a convolutional neural network model. The function takes in a batch of images, `x`, and outputs logits.  Use the layers you created above to create this model:\n",
    "\n",
    "* Apply 1, 2, or 3 Convolution and Max Pool layers\n",
    "* Apply a Flatten Layer\n",
    "* Apply 1, 2, or 3 Fully Connected Layers\n",
    "* Apply an Output Layer\n",
    "* Return the output\n",
    "* Apply [TensorFlow's Dropout](https://www.tensorflow.org/api_docs/python/tf/nn/dropout) to one or more layers in the model using `keep_prob`. "
   ]
  },
  {
   "cell_type": "code",
   "execution_count": 134,
   "metadata": {
    "collapsed": false
   },
   "outputs": [
    {
     "name": "stdout",
     "output_type": "stream",
     "text": [
      "Neural Network Built!\n"
     ]
    }
   ],
   "source": [
    "def conv_net(x, keep_prob):\n",
    "    \"\"\"\n",
    "    Create a convolutional neural network model\n",
    "    : x: Placeholder tensor that holds image data.\n",
    "    : keep_prob: Placeholder tensor that hold dropout keep probability.\n",
    "    : return: Tensor that represents logits\n",
    "    \"\"\"\n",
    "    # TODO: Apply 1, 2, or 3 Convolution and Max Pool layers\n",
    "    #    Play around with different number of outputs, kernel size and stride\n",
    "    # Function Definition from Above:\n",
    "    #    conv2d_maxpool(x_tensor, conv_num_outputs, conv_ksize, conv_strides, pool_ksize, pool_strides)\n",
    "    conv1 = conv2d_maxpool(x, 32, [5, 5], [1, 1], [2, 2], [2, 2])\n",
    "    conv2 = conv2d_maxpool(conv1, 64, [3, 3], [1, 1], [2, 2], [2, 2])\n",
    "    conv3 = conv2d_maxpool(conv2, 128, [2, 2], [1, 1], [2, 2], [2, 2])\n",
    "\n",
    "    # TODO: Apply a Flatten Layer\n",
    "    # Function Definition from Above:\n",
    "    #   flatten(x_tensor)\n",
    "    flat = flatten(conv3)\n",
    "\n",
    "    # TODO: Apply 1, 2, or 3 Fully Connected Layers\n",
    "    #    Play around with different number of outputs\n",
    "    # Function Definition from Above:\n",
    "    #   fully_conn(x_tensor, num_outputs)\n",
    "    fc1 = fully_conn(flat, 1024)\n",
    "    fc1 = tf.nn.dropout(fc1, keep_prob)\n",
    "    \n",
    "    \n",
    "    \n",
    "    # TODO: Apply an Output Layer\n",
    "    #    Set this to the number of classes\n",
    "    # Function Definition from Above:\n",
    "    #   output(x_tensor, num_outputs)\n",
    "    out = output(fc1, 10)\n",
    "    \n",
    "    # TODO: return output\n",
    "    return out\n",
    "\n",
    "\n",
    "\"\"\"\n",
    "DON'T MODIFY ANYTHING IN THIS CELL THAT IS BELOW THIS LINE\n",
    "\"\"\"\n",
    "\n",
    "##############################\n",
    "## Build the Neural Network ##\n",
    "##############################\n",
    "\n",
    "# Remove previous weights, bias, inputs, etc..\n",
    "tf.reset_default_graph()\n",
    "\n",
    "# Inputs\n",
    "x = neural_net_image_input((32, 32, 3))\n",
    "y = neural_net_label_input(10)\n",
    "keep_prob = neural_net_keep_prob_input()\n",
    "\n",
    "# Model\n",
    "logits = conv_net(x, keep_prob)\n",
    "\n",
    "# Name logits Tensor, so that is can be loaded from disk after training\n",
    "logits = tf.identity(logits, name='logits')\n",
    "\n",
    "# Loss and Optimizer\n",
    "cost = tf.reduce_mean(tf.nn.softmax_cross_entropy_with_logits(logits=logits, labels=y))\n",
    "optimizer = tf.train.AdamOptimizer().minimize(cost)\n",
    "\n",
    "# Accuracy\n",
    "correct_pred = tf.equal(tf.argmax(logits, 1), tf.argmax(y, 1))\n",
    "accuracy = tf.reduce_mean(tf.cast(correct_pred, tf.float32), name='accuracy')\n",
    "\n",
    "tests.test_conv_net(conv_net)"
   ]
  },
  {
   "cell_type": "markdown",
   "metadata": {},
   "source": [
    "## Train the Neural Network\n",
    "### Single Optimization\n",
    "Implement the function `train_neural_network` to do a single optimization.  The optimization should use `optimizer` to optimize in `session` with a `feed_dict` of the following:\n",
    "* `x` for image input\n",
    "* `y` for labels\n",
    "* `keep_prob` for keep probability for dropout\n",
    "\n",
    "This function will be called for each batch, so `tf.global_variables_initializer()` has already been called.\n",
    "\n",
    "Note: Nothing needs to be returned. This function is only optimizing the neural network."
   ]
  },
  {
   "cell_type": "code",
   "execution_count": 98,
   "metadata": {
    "collapsed": false
   },
   "outputs": [
    {
     "name": "stdout",
     "output_type": "stream",
     "text": [
      "Tests Passed\n"
     ]
    }
   ],
   "source": [
    "def train_neural_network(session, optimizer, keep_probability, feature_batch, label_batch):\n",
    "    \"\"\"\n",
    "    Optimize the session on a batch of images and labels\n",
    "    : session: Current TensorFlow session\n",
    "    : optimizer: TensorFlow optimizer function\n",
    "    : keep_probability: keep probability\n",
    "    : feature_batch: Batch of Numpy image data\n",
    "    : label_batch: Batch of Numpy label data\n",
    "    \"\"\"\n",
    "    # TODO: Implement Function\n",
    "    session.run(optimizer, feed_dict={ x: feature_batch, y: label_batch, keep_prob: keep_probability })\n",
    "    pass\n",
    "\n",
    "\n",
    "\"\"\"\n",
    "DON'T MODIFY ANYTHING IN THIS CELL THAT IS BELOW THIS LINE\n",
    "\"\"\"\n",
    "tests.test_train_nn(train_neural_network)"
   ]
  },
  {
   "cell_type": "markdown",
   "metadata": {},
   "source": [
    "### Show Stats\n",
    "Implement the function `print_stats` to print loss and validation accuracy.  Use the global variables `valid_features` and `valid_labels` to calculate validation accuracy.  Use a keep probability of `1.0` to calculate the loss and validation accuracy."
   ]
  },
  {
   "cell_type": "code",
   "execution_count": 99,
   "metadata": {
    "collapsed": false
   },
   "outputs": [],
   "source": [
    "def print_stats(session, feature_batch, label_batch, cost, accuracy):\n",
    "    \"\"\"\n",
    "    Print information about loss and validation accuracy\n",
    "    : session: Current TensorFlow session\n",
    "    : feature_batch: Batch of Numpy image data\n",
    "    : label_batch: Batch of Numpy label data\n",
    "    : cost: TensorFlow cost function\n",
    "    : accuracy: TensorFlow accuracy function\n",
    "    \"\"\"\n",
    "    # TODO: Implement Function\n",
    "    loss = session.run(cost, feed_dict={ x: feature_batch, y: label_batch, keep_prob: 1. })\n",
    "    valid_acc = session.run(accuracy, feed_dict={ x: valid_features, y: valid_labels, keep_prob: 1. })\n",
    "    \n",
    "    print('Loss: {:>10.4f} Validation Accuracy: {:.6f}'.format(loss, valid_acc))\n",
    "    pass"
   ]
  },
  {
   "cell_type": "markdown",
   "metadata": {},
   "source": [
    "### Hyperparameters\n",
    "Tune the following parameters:\n",
    "* Set `epochs` to the number of iterations until the network stops learning or start overfitting\n",
    "* Set `batch_size` to the highest number that your machine has memory for.  Most people set them to common sizes of memory:\n",
    " * 64\n",
    " * 128\n",
    " * 256\n",
    " * ...\n",
    "* Set `keep_probability` to the probability of keeping a node using dropout"
   ]
  },
  {
   "cell_type": "code",
   "execution_count": 141,
   "metadata": {
    "collapsed": true
   },
   "outputs": [],
   "source": [
    "# TODO: Tune Parameters\n",
    "epochs = 25\n",
    "batch_size = 256\n",
    "keep_probability = 0.8"
   ]
  },
  {
   "cell_type": "markdown",
   "metadata": {},
   "source": [
    "### Train on a Single CIFAR-10 Batch\n",
    "Instead of training the neural network on all the CIFAR-10 batches of data, let's use a single batch. This should save time while you iterate on the model to get a better accuracy.  Once the final validation accuracy is 50% or greater, run the model on all the data in the next section."
   ]
  },
  {
   "cell_type": "code",
   "execution_count": 140,
   "metadata": {
    "collapsed": false
   },
   "outputs": [
    {
     "name": "stdout",
     "output_type": "stream",
     "text": [
      "Checking the Training on a Single Batch...\n",
      "Epoch  1, CIFAR-10 Batch 1:  Loss:     2.2305 Validation Accuracy: 0.231800\n",
      "Epoch  2, CIFAR-10 Batch 1:  Loss:     2.1441 Validation Accuracy: 0.281000\n",
      "Epoch  3, CIFAR-10 Batch 1:  Loss:     1.9610 Validation Accuracy: 0.357600\n",
      "Epoch  4, CIFAR-10 Batch 1:  Loss:     1.9908 Validation Accuracy: 0.371600\n",
      "Epoch  5, CIFAR-10 Batch 1:  Loss:     1.7397 Validation Accuracy: 0.398000\n",
      "Epoch  6, CIFAR-10 Batch 1:  Loss:     1.6426 Validation Accuracy: 0.404400\n",
      "Epoch  7, CIFAR-10 Batch 1:  Loss:     1.5272 Validation Accuracy: 0.447200\n",
      "Epoch  8, CIFAR-10 Batch 1:  Loss:     1.5220 Validation Accuracy: 0.464200\n",
      "Epoch  9, CIFAR-10 Batch 1:  Loss:     1.4705 Validation Accuracy: 0.463800\n",
      "Epoch 10, CIFAR-10 Batch 1:  Loss:     1.3629 Validation Accuracy: 0.483000\n",
      "Epoch 11, CIFAR-10 Batch 1:  Loss:     1.3521 Validation Accuracy: 0.479000\n",
      "Epoch 12, CIFAR-10 Batch 1:  Loss:     1.3169 Validation Accuracy: 0.484600\n",
      "Epoch 13, CIFAR-10 Batch 1:  Loss:     1.2463 Validation Accuracy: 0.504600\n",
      "Epoch 14, CIFAR-10 Batch 1:  Loss:     1.1138 Validation Accuracy: 0.506400\n",
      "Epoch 15, CIFAR-10 Batch 1:  Loss:     1.0747 Validation Accuracy: 0.500600\n",
      "Epoch 16, CIFAR-10 Batch 1:  Loss:     1.0729 Validation Accuracy: 0.517000\n",
      "Epoch 17, CIFAR-10 Batch 1:  Loss:     0.9559 Validation Accuracy: 0.518400\n",
      "Epoch 18, CIFAR-10 Batch 1:  Loss:     0.8956 Validation Accuracy: 0.520400\n",
      "Epoch 19, CIFAR-10 Batch 1:  Loss:     0.8173 Validation Accuracy: 0.507200\n",
      "Epoch 20, CIFAR-10 Batch 1:  Loss:     0.8655 Validation Accuracy: 0.509800\n",
      "Epoch 21, CIFAR-10 Batch 1:  Loss:     0.7226 Validation Accuracy: 0.518600\n",
      "Epoch 22, CIFAR-10 Batch 1:  Loss:     0.6942 Validation Accuracy: 0.524600\n",
      "Epoch 23, CIFAR-10 Batch 1:  Loss:     0.6572 Validation Accuracy: 0.527600\n",
      "Epoch 24, CIFAR-10 Batch 1:  Loss:     0.6508 Validation Accuracy: 0.509600\n",
      "Epoch 25, CIFAR-10 Batch 1:  Loss:     0.6870 Validation Accuracy: 0.517600\n"
     ]
    }
   ],
   "source": [
    "\"\"\"\n",
    "DON'T MODIFY ANYTHING IN THIS CELL\n",
    "\"\"\"\n",
    "print('Checking the Training on a Single Batch...')\n",
    "with tf.Session() as sess:\n",
    "    # Initializing the variables\n",
    "    sess.run(tf.global_variables_initializer())\n",
    "    \n",
    "    # Training cycle\n",
    "    for epoch in range(epochs):\n",
    "        batch_i = 1\n",
    "        for batch_features, batch_labels in helper.load_preprocess_training_batch(batch_i, batch_size):\n",
    "            train_neural_network(sess, optimizer, keep_probability, batch_features, batch_labels)\n",
    "        print('Epoch {:>2}, CIFAR-10 Batch {}:  '.format(epoch + 1, batch_i), end='')\n",
    "        print_stats(sess, batch_features, batch_labels, cost, accuracy)"
   ]
  },
  {
   "cell_type": "markdown",
   "metadata": {},
   "source": [
    "### Fully Train the Model\n",
    "Now that you got a good accuracy with a single CIFAR-10 batch, try it with all five batches."
   ]
  },
  {
   "cell_type": "code",
   "execution_count": 142,
   "metadata": {
    "collapsed": false
   },
   "outputs": [
    {
     "name": "stdout",
     "output_type": "stream",
     "text": [
      "Training...\n",
      "Epoch  1, CIFAR-10 Batch 1:  Loss:     2.5266 Validation Accuracy: 0.114600\n",
      "Epoch  1, CIFAR-10 Batch 2:  Loss:     2.1503 Validation Accuracy: 0.295400\n",
      "Epoch  1, CIFAR-10 Batch 3:  Loss:     1.5458 Validation Accuracy: 0.299200\n",
      "Epoch  1, CIFAR-10 Batch 4:  Loss:     1.6961 Validation Accuracy: 0.315000\n",
      "Epoch  1, CIFAR-10 Batch 5:  Loss:     1.6607 Validation Accuracy: 0.371400\n",
      "Epoch  2, CIFAR-10 Batch 1:  Loss:     1.8749 Validation Accuracy: 0.332000\n",
      "Epoch  2, CIFAR-10 Batch 2:  Loss:     1.7764 Validation Accuracy: 0.394600\n",
      "Epoch  2, CIFAR-10 Batch 3:  Loss:     1.3636 Validation Accuracy: 0.409400\n",
      "Epoch  2, CIFAR-10 Batch 4:  Loss:     1.5436 Validation Accuracy: 0.376400\n",
      "Epoch  2, CIFAR-10 Batch 5:  Loss:     1.6208 Validation Accuracy: 0.418600\n",
      "Epoch  3, CIFAR-10 Batch 1:  Loss:     1.7702 Validation Accuracy: 0.393000\n",
      "Epoch  3, CIFAR-10 Batch 2:  Loss:     1.6518 Validation Accuracy: 0.432800\n",
      "Epoch  3, CIFAR-10 Batch 3:  Loss:     1.3101 Validation Accuracy: 0.446600\n",
      "Epoch  3, CIFAR-10 Batch 4:  Loss:     1.4122 Validation Accuracy: 0.427800\n",
      "Epoch  3, CIFAR-10 Batch 5:  Loss:     1.4946 Validation Accuracy: 0.446400\n",
      "Epoch  4, CIFAR-10 Batch 1:  Loss:     1.6354 Validation Accuracy: 0.443000\n",
      "Epoch  4, CIFAR-10 Batch 2:  Loss:     1.4877 Validation Accuracy: 0.457200\n",
      "Epoch  4, CIFAR-10 Batch 3:  Loss:     1.1571 Validation Accuracy: 0.473600\n",
      "Epoch  4, CIFAR-10 Batch 4:  Loss:     1.3295 Validation Accuracy: 0.463200\n",
      "Epoch  4, CIFAR-10 Batch 5:  Loss:     1.3813 Validation Accuracy: 0.478600\n",
      "Epoch  5, CIFAR-10 Batch 1:  Loss:     1.4727 Validation Accuracy: 0.461800\n",
      "Epoch  5, CIFAR-10 Batch 2:  Loss:     1.3610 Validation Accuracy: 0.482600\n",
      "Epoch  5, CIFAR-10 Batch 3:  Loss:     1.0630 Validation Accuracy: 0.481400\n",
      "Epoch  5, CIFAR-10 Batch 4:  Loss:     1.2326 Validation Accuracy: 0.482000\n",
      "Epoch  5, CIFAR-10 Batch 5:  Loss:     1.3274 Validation Accuracy: 0.480600\n",
      "Epoch  6, CIFAR-10 Batch 1:  Loss:     1.4033 Validation Accuracy: 0.489600\n",
      "Epoch  6, CIFAR-10 Batch 2:  Loss:     1.3173 Validation Accuracy: 0.473800\n",
      "Epoch  6, CIFAR-10 Batch 3:  Loss:     1.0478 Validation Accuracy: 0.507000\n",
      "Epoch  6, CIFAR-10 Batch 4:  Loss:     1.1384 Validation Accuracy: 0.486600\n",
      "Epoch  6, CIFAR-10 Batch 5:  Loss:     1.2985 Validation Accuracy: 0.473800\n",
      "Epoch  7, CIFAR-10 Batch 1:  Loss:     1.2861 Validation Accuracy: 0.490600\n",
      "Epoch  7, CIFAR-10 Batch 2:  Loss:     1.2028 Validation Accuracy: 0.503600\n",
      "Epoch  7, CIFAR-10 Batch 3:  Loss:     0.9821 Validation Accuracy: 0.532000\n",
      "Epoch  7, CIFAR-10 Batch 4:  Loss:     1.0895 Validation Accuracy: 0.474000\n",
      "Epoch  7, CIFAR-10 Batch 5:  Loss:     1.2189 Validation Accuracy: 0.497000\n",
      "Epoch  8, CIFAR-10 Batch 1:  Loss:     1.2206 Validation Accuracy: 0.488400\n",
      "Epoch  8, CIFAR-10 Batch 2:  Loss:     1.1832 Validation Accuracy: 0.506600\n",
      "Epoch  8, CIFAR-10 Batch 3:  Loss:     1.0260 Validation Accuracy: 0.524000\n",
      "Epoch  8, CIFAR-10 Batch 4:  Loss:     0.9893 Validation Accuracy: 0.515800\n",
      "Epoch  8, CIFAR-10 Batch 5:  Loss:     1.2356 Validation Accuracy: 0.493000\n",
      "Epoch  9, CIFAR-10 Batch 1:  Loss:     1.2582 Validation Accuracy: 0.495000\n",
      "Epoch  9, CIFAR-10 Batch 2:  Loss:     1.0795 Validation Accuracy: 0.528800\n",
      "Epoch  9, CIFAR-10 Batch 3:  Loss:     0.9298 Validation Accuracy: 0.545400\n",
      "Epoch  9, CIFAR-10 Batch 4:  Loss:     0.9078 Validation Accuracy: 0.533800\n",
      "Epoch  9, CIFAR-10 Batch 5:  Loss:     1.1569 Validation Accuracy: 0.526000\n",
      "Epoch 10, CIFAR-10 Batch 1:  Loss:     1.1561 Validation Accuracy: 0.527600\n",
      "Epoch 10, CIFAR-10 Batch 2:  Loss:     1.0651 Validation Accuracy: 0.537000\n",
      "Epoch 10, CIFAR-10 Batch 3:  Loss:     0.8902 Validation Accuracy: 0.550800\n",
      "Epoch 10, CIFAR-10 Batch 4:  Loss:     0.8374 Validation Accuracy: 0.532400\n",
      "Epoch 10, CIFAR-10 Batch 5:  Loss:     1.1116 Validation Accuracy: 0.519200\n",
      "Epoch 11, CIFAR-10 Batch 1:  Loss:     1.1392 Validation Accuracy: 0.535000\n",
      "Epoch 11, CIFAR-10 Batch 2:  Loss:     0.9819 Validation Accuracy: 0.552200\n",
      "Epoch 11, CIFAR-10 Batch 3:  Loss:     0.8958 Validation Accuracy: 0.569400\n",
      "Epoch 11, CIFAR-10 Batch 4:  Loss:     0.7979 Validation Accuracy: 0.539600\n",
      "Epoch 11, CIFAR-10 Batch 5:  Loss:     1.0112 Validation Accuracy: 0.541200\n",
      "Epoch 12, CIFAR-10 Batch 1:  Loss:     1.1049 Validation Accuracy: 0.548800\n",
      "Epoch 12, CIFAR-10 Batch 2:  Loss:     0.9774 Validation Accuracy: 0.553600\n",
      "Epoch 12, CIFAR-10 Batch 3:  Loss:     0.8778 Validation Accuracy: 0.564400\n",
      "Epoch 12, CIFAR-10 Batch 4:  Loss:     0.7750 Validation Accuracy: 0.532400\n",
      "Epoch 12, CIFAR-10 Batch 5:  Loss:     0.9554 Validation Accuracy: 0.554600\n",
      "Epoch 13, CIFAR-10 Batch 1:  Loss:     1.0417 Validation Accuracy: 0.558000\n",
      "Epoch 13, CIFAR-10 Batch 2:  Loss:     0.8836 Validation Accuracy: 0.558800\n",
      "Epoch 13, CIFAR-10 Batch 3:  Loss:     0.8268 Validation Accuracy: 0.567600\n",
      "Epoch 13, CIFAR-10 Batch 4:  Loss:     0.7389 Validation Accuracy: 0.549200\n",
      "Epoch 13, CIFAR-10 Batch 5:  Loss:     0.9246 Validation Accuracy: 0.562600\n",
      "Epoch 14, CIFAR-10 Batch 1:  Loss:     1.0127 Validation Accuracy: 0.556600\n",
      "Epoch 14, CIFAR-10 Batch 2:  Loss:     0.8528 Validation Accuracy: 0.576400\n",
      "Epoch 14, CIFAR-10 Batch 3:  Loss:     0.7789 Validation Accuracy: 0.567800\n",
      "Epoch 14, CIFAR-10 Batch 4:  Loss:     0.6693 Validation Accuracy: 0.564400\n",
      "Epoch 14, CIFAR-10 Batch 5:  Loss:     0.8748 Validation Accuracy: 0.584800\n",
      "Epoch 15, CIFAR-10 Batch 1:  Loss:     0.9471 Validation Accuracy: 0.564200\n",
      "Epoch 15, CIFAR-10 Batch 2:  Loss:     0.7724 Validation Accuracy: 0.582400\n",
      "Epoch 15, CIFAR-10 Batch 3:  Loss:     0.7350 Validation Accuracy: 0.568400\n",
      "Epoch 15, CIFAR-10 Batch 4:  Loss:     0.6365 Validation Accuracy: 0.564200\n",
      "Epoch 15, CIFAR-10 Batch 5:  Loss:     0.8066 Validation Accuracy: 0.583200\n",
      "Epoch 16, CIFAR-10 Batch 1:  Loss:     0.9133 Validation Accuracy: 0.567800\n",
      "Epoch 16, CIFAR-10 Batch 2:  Loss:     0.6999 Validation Accuracy: 0.591600\n",
      "Epoch 16, CIFAR-10 Batch 3:  Loss:     0.6647 Validation Accuracy: 0.578800\n",
      "Epoch 16, CIFAR-10 Batch 4:  Loss:     0.6258 Validation Accuracy: 0.568800\n",
      "Epoch 16, CIFAR-10 Batch 5:  Loss:     0.8436 Validation Accuracy: 0.567800\n",
      "Epoch 17, CIFAR-10 Batch 1:  Loss:     0.8936 Validation Accuracy: 0.573200\n",
      "Epoch 17, CIFAR-10 Batch 2:  Loss:     0.7040 Validation Accuracy: 0.591200\n",
      "Epoch 17, CIFAR-10 Batch 3:  Loss:     0.6338 Validation Accuracy: 0.572200\n",
      "Epoch 17, CIFAR-10 Batch 4:  Loss:     0.5645 Validation Accuracy: 0.578400\n",
      "Epoch 17, CIFAR-10 Batch 5:  Loss:     0.7765 Validation Accuracy: 0.589400\n",
      "Epoch 18, CIFAR-10 Batch 1:  Loss:     0.7947 Validation Accuracy: 0.574400\n",
      "Epoch 18, CIFAR-10 Batch 2:  Loss:     0.6534 Validation Accuracy: 0.603000\n",
      "Epoch 18, CIFAR-10 Batch 3:  Loss:     0.5950 Validation Accuracy: 0.569200\n",
      "Epoch 18, CIFAR-10 Batch 4:  Loss:     0.5370 Validation Accuracy: 0.576400\n",
      "Epoch 18, CIFAR-10 Batch 5:  Loss:     0.7267 Validation Accuracy: 0.601000\n",
      "Epoch 19, CIFAR-10 Batch 1:  Loss:     0.7876 Validation Accuracy: 0.588000\n",
      "Epoch 19, CIFAR-10 Batch 2:  Loss:     0.5700 Validation Accuracy: 0.598000\n",
      "Epoch 19, CIFAR-10 Batch 3:  Loss:     0.5294 Validation Accuracy: 0.589600\n",
      "Epoch 19, CIFAR-10 Batch 4:  Loss:     0.6034 Validation Accuracy: 0.592600\n",
      "Epoch 19, CIFAR-10 Batch 5:  Loss:     0.6690 Validation Accuracy: 0.598200\n",
      "Epoch 20, CIFAR-10 Batch 1:  Loss:     0.7515 Validation Accuracy: 0.593800\n",
      "Epoch 20, CIFAR-10 Batch 2:  Loss:     0.5482 Validation Accuracy: 0.608400\n",
      "Epoch 20, CIFAR-10 Batch 3:  Loss:     0.5296 Validation Accuracy: 0.594600\n",
      "Epoch 20, CIFAR-10 Batch 4:  Loss:     0.5809 Validation Accuracy: 0.607200\n",
      "Epoch 20, CIFAR-10 Batch 5:  Loss:     0.5945 Validation Accuracy: 0.611000\n",
      "Epoch 21, CIFAR-10 Batch 1:  Loss:     0.6507 Validation Accuracy: 0.611400\n",
      "Epoch 21, CIFAR-10 Batch 2:  Loss:     0.5420 Validation Accuracy: 0.610200\n",
      "Epoch 21, CIFAR-10 Batch 3:  Loss:     0.4525 Validation Accuracy: 0.594800\n",
      "Epoch 21, CIFAR-10 Batch 4:  Loss:     0.5923 Validation Accuracy: 0.596200\n",
      "Epoch 21, CIFAR-10 Batch 5:  Loss:     0.5226 Validation Accuracy: 0.613800\n",
      "Epoch 22, CIFAR-10 Batch 1:  Loss:     0.5946 Validation Accuracy: 0.604800\n",
      "Epoch 22, CIFAR-10 Batch 2:  Loss:     0.4924 Validation Accuracy: 0.613600\n",
      "Epoch 22, CIFAR-10 Batch 3:  Loss:     0.4446 Validation Accuracy: 0.603200\n",
      "Epoch 22, CIFAR-10 Batch 4:  Loss:     0.5205 Validation Accuracy: 0.625200\n",
      "Epoch 22, CIFAR-10 Batch 5:  Loss:     0.5592 Validation Accuracy: 0.610000\n",
      "Epoch 23, CIFAR-10 Batch 1:  Loss:     0.5416 Validation Accuracy: 0.613000\n",
      "Epoch 23, CIFAR-10 Batch 2:  Loss:     0.4889 Validation Accuracy: 0.616400\n",
      "Epoch 23, CIFAR-10 Batch 3:  Loss:     0.4401 Validation Accuracy: 0.599400\n",
      "Epoch 23, CIFAR-10 Batch 4:  Loss:     0.4735 Validation Accuracy: 0.623200\n",
      "Epoch 23, CIFAR-10 Batch 5:  Loss:     0.4878 Validation Accuracy: 0.625400\n",
      "Epoch 24, CIFAR-10 Batch 1:  Loss:     0.5255 Validation Accuracy: 0.620400\n",
      "Epoch 24, CIFAR-10 Batch 2:  Loss:     0.4644 Validation Accuracy: 0.616800\n",
      "Epoch 24, CIFAR-10 Batch 3:  Loss:     0.3977 Validation Accuracy: 0.610400\n",
      "Epoch 24, CIFAR-10 Batch 4:  Loss:     0.4527 Validation Accuracy: 0.629800\n",
      "Epoch 24, CIFAR-10 Batch 5:  Loss:     0.4387 Validation Accuracy: 0.627000\n",
      "Epoch 25, CIFAR-10 Batch 1:  Loss:     0.4754 Validation Accuracy: 0.613200\n",
      "Epoch 25, CIFAR-10 Batch 2:  Loss:     0.4273 Validation Accuracy: 0.619600\n",
      "Epoch 25, CIFAR-10 Batch 3:  Loss:     0.3658 Validation Accuracy: 0.602000\n",
      "Epoch 25, CIFAR-10 Batch 4:  Loss:     0.4347 Validation Accuracy: 0.626000\n",
      "Epoch 25, CIFAR-10 Batch 5:  Loss:     0.4452 Validation Accuracy: 0.629200\n"
     ]
    }
   ],
   "source": [
    "\"\"\"\n",
    "DON'T MODIFY ANYTHING IN THIS CELL\n",
    "\"\"\"\n",
    "save_model_path = './image_classification'\n",
    "\n",
    "print('Training...')\n",
    "with tf.Session() as sess:\n",
    "    # Initializing the variables\n",
    "    sess.run(tf.global_variables_initializer())\n",
    "    \n",
    "    # Training cycle\n",
    "    for epoch in range(epochs):\n",
    "        # Loop over all batches\n",
    "        n_batches = 5\n",
    "        for batch_i in range(1, n_batches + 1):\n",
    "            for batch_features, batch_labels in helper.load_preprocess_training_batch(batch_i, batch_size):\n",
    "                train_neural_network(sess, optimizer, keep_probability, batch_features, batch_labels)\n",
    "            print('Epoch {:>2}, CIFAR-10 Batch {}:  '.format(epoch + 1, batch_i), end='')\n",
    "            print_stats(sess, batch_features, batch_labels, cost, accuracy)\n",
    "            \n",
    "    # Save Model\n",
    "    saver = tf.train.Saver()\n",
    "    save_path = saver.save(sess, save_model_path)"
   ]
  },
  {
   "cell_type": "markdown",
   "metadata": {},
   "source": [
    "# Checkpoint\n",
    "The model has been saved to disk.\n",
    "## Test Model\n",
    "Test your model against the test dataset.  This will be your final accuracy. You should have an accuracy greater than 50%. If you don't, keep tweaking the model architecture and parameters."
   ]
  },
  {
   "cell_type": "code",
   "execution_count": 144,
   "metadata": {
    "collapsed": false
   },
   "outputs": [
    {
     "name": "stdout",
     "output_type": "stream",
     "text": [
      "Testing Accuracy: 0.62509765625\n",
      "\n"
     ]
    },
    {
     "data": {
      "image/png": "[encoded data removed]",
      "text/plain": [
       "<matplotlib.figure.Figure at 0x7f84474db5f8>"
      ]
     },
     "metadata": {
      "image/png": {
       "height": 319,
       "width": 355
      }
     },
     "output_type": "display_data"
    }
   ],
   "source": [
    "\"\"\"\n",
    "DON'T MODIFY ANYTHING IN THIS CELL\n",
    "\"\"\"\n",
    "%matplotlib inline\n",
    "%config InlineBackend.figure_format = 'retina'\n",
    "\n",
    "import tensorflow as tf\n",
    "import pickle\n",
    "import helper\n",
    "import random\n",
    "\n",
    "# Set batch size if not already set\n",
    "try:\n",
    "    if batch_size:\n",
    "        pass\n",
    "except NameError:\n",
    "    batch_size = 64\n",
    "\n",
    "save_model_path = './image_classification'\n",
    "n_samples = 4\n",
    "top_n_predictions = 3\n",
    "\n",
    "def test_model():\n",
    "    \"\"\"\n",
    "    Test the saved model against the test dataset\n",
    "    \"\"\"\n",
    "\n",
    "    test_features, test_labels = pickle.load(open('preprocess_training.p', mode='rb'))\n",
    "    loaded_graph = tf.Graph()\n",
    "\n",
    "    with tf.Session(graph=loaded_graph) as sess:\n",
    "        # Load model\n",
    "        loader = tf.train.import_meta_graph(save_model_path + '.meta')\n",
    "        loader.restore(sess, save_model_path)\n",
    "\n",
    "        # Get Tensors from loaded model\n",
    "        loaded_x = loaded_graph.get_tensor_by_name('x:0')\n",
    "        loaded_y = loaded_graph.get_tensor_by_name('y:0')\n",
    "        loaded_keep_prob = loaded_graph.get_tensor_by_name('keep_prob:0')\n",
    "        loaded_logits = loaded_graph.get_tensor_by_name('logits:0')\n",
    "        loaded_acc = loaded_graph.get_tensor_by_name('accuracy:0')\n",
    "        \n",
    "        # Get accuracy in batches for memory limitations\n",
    "        test_batch_acc_total = 0\n",
    "        test_batch_count = 0\n",
    "        \n",
    "        for train_feature_batch, train_label_batch in helper.batch_features_labels(test_features, test_labels, batch_size):\n",
    "            test_batch_acc_total += sess.run(\n",
    "                loaded_acc,\n",
    "                feed_dict={loaded_x: train_feature_batch, loaded_y: train_label_batch, loaded_keep_prob: 1.0})\n",
    "            test_batch_count += 1\n",
    "\n",
    "        print('Testing Accuracy: {}\\n'.format(test_batch_acc_total/test_batch_count))\n",
    "\n",
    "        # Print Random Samples\n",
    "        random_test_features, random_test_labels = tuple(zip(*random.sample(list(zip(test_features, test_labels)), n_samples)))\n",
    "        random_test_predictions = sess.run(\n",
    "            tf.nn.top_k(tf.nn.softmax(loaded_logits), top_n_predictions),\n",
    "            feed_dict={loaded_x: random_test_features, loaded_y: random_test_labels, loaded_keep_prob: 1.0})\n",
    "        helper.display_image_predictions(random_test_features, random_test_labels, random_test_predictions)\n",
    "\n",
    "\n",
    "test_model()"
   ]
  },
  {
   "cell_type": "markdown",
   "metadata": {},
   "source": [
    "## Why 50-70% Accuracy?\n",
    "You might be wondering why you can't get an accuracy any higher. First things first, 50% isn't bad for a simple CNN.  Pure guessing would get you 10% accuracy. However, you might notice people are getting scores [well above 70%](http://rodrigob.github.io/are_we_there_yet/build/classification_datasets_results.html#43494641522d3130).  That's because we haven't taught you all there is to know about neural networks. We still need to cover a few more techniques.\n",
    "## Submitting This Project\n",
    "When submitting this project, make sure to run all the cells before saving the notebook.  Save the notebook file as \"dlnd_image_classification.ipynb\" and save it as a HTML file under \"File\" -> \"Download as\".  Include the \"helper.py\" and \"problem_unittests.py\" files in your submission."
   ]
  }
 ],
 "metadata": {
  "kernelspec": {
   "display_name": "Python 3",
   "language": "python",
   "name": "python3"
  },
  "language_info": {
   "codemirror_mode": {
    "name": "ipython",
    "version": 3
   },
   "file_extension": ".py",
   "mimetype": "text/x-python",
   "name": "python",
   "nbconvert_exporter": "python",
   "pygments_lexer": "ipython3",
   "version": "3.5.2"
  }
 },
 "nbformat": 4,
 "nbformat_minor": 0
}
