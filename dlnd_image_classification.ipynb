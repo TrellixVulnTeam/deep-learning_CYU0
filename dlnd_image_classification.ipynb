{
 "cells": [
  {
   "cell_type": "markdown",
   "metadata": {
    "collapsed": true
   },
   "source": [
    "# Image Classification\n",
    "In this project, you'll classify images from the [CIFAR-10 dataset](https://www.cs.toronto.edu/~kriz/cifar.html).  The dataset consists of airplanes, dogs, cats, and other objects. You'll preprocess the images, then train a convolutional neural network on all the samples. The images need to be normalized and the labels need to be one-hot encoded.  You'll get to apply what you learned and build a convolutional, max pooling, dropout, and fully connected layers.  At the end, you'll get to see your neural network's predictions on the sample images.\n",
    "## Get the Data\n",
    "Run the following cell to download the [CIFAR-10 dataset for python](https://www.cs.toronto.edu/~kriz/cifar-10-python.tar.gz)."
   ]
  },
  {
   "cell_type": "code",
   "execution_count": 1,
   "metadata": {
    "collapsed": false
   },
   "outputs": [
    {
     "name": "stderr",
     "output_type": "stream",
     "text": [
      "CIFAR-10 Dataset: 171MB [00:40, 4.18MB/s]                              \n"
     ]
    },
    {
     "name": "stdout",
     "output_type": "stream",
     "text": [
      "All files found!\n"
     ]
    }
   ],
   "source": [
    "\"\"\"\n",
    "DON'T MODIFY ANYTHING IN THIS CELL THAT IS BELOW THIS LINE\n",
    "\"\"\"\n",
    "from urllib.request import urlretrieve\n",
    "from os.path import isfile, isdir\n",
    "from tqdm import tqdm\n",
    "import problem_unittests as tests\n",
    "import tarfile\n",
    "\n",
    "cifar10_dataset_folder_path = 'cifar-10-batches-py'\n",
    "\n",
    "class DLProgress(tqdm):\n",
    "    last_block = 0\n",
    "\n",
    "    def hook(self, block_num=1, block_size=1, total_size=None):\n",
    "        self.total = total_size\n",
    "        self.update((block_num - self.last_block) * block_size)\n",
    "        self.last_block = block_num\n",
    "\n",
    "if not isfile('cifar-10-python.tar.gz'):\n",
    "    with DLProgress(unit='B', unit_scale=True, miniters=1, desc='CIFAR-10 Dataset') as pbar:\n",
    "        urlretrieve(\n",
    "            'https://www.cs.toronto.edu/~kriz/cifar-10-python.tar.gz',\n",
    "            'cifar-10-python.tar.gz',\n",
    "            pbar.hook)\n",
    "\n",
    "if not isdir(cifar10_dataset_folder_path):\n",
    "    with tarfile.open('cifar-10-python.tar.gz') as tar:\n",
    "        tar.extractall()\n",
    "        tar.close()\n",
    "\n",
    "\n",
    "tests.test_folder_path(cifar10_dataset_folder_path)"
   ]
  },
  {
   "cell_type": "markdown",
   "metadata": {},
   "source": [
    "## Explore the Data\n",
    "The dataset is broken into batches to prevent your machine from running out of memory.  The CIFAR-10 dataset consists of 5 batches, named `data_batch_1`, `data_batch_2`, etc.. Each batch contains the labels and images that are one of the following:\n",
    "* airplane\n",
    "* automobile\n",
    "* bird\n",
    "* cat\n",
    "* deer\n",
    "* dog\n",
    "* frog\n",
    "* horse\n",
    "* ship\n",
    "* truck\n",
    "\n",
    "Understanding a dataset is part of making predictions on the data.  Play around with the code cell below by changing the `batch_id` and `sample_id`. The `batch_id` is the id for a batch (1-5). The `sample_id` is the id for a image and label pair in the batch.\n",
    "\n",
    "Ask yourself \"What are all possible labels?\", \"What is the range of values for the image data?\", \"Are the labels in order or random?\".  Answers to questions like these will help you preprocess the data and end up with better predictions."
   ]
  },
  {
   "cell_type": "code",
   "execution_count": 19,
   "metadata": {
    "collapsed": false
   },
   "outputs": [
    {
     "name": "stdout",
     "output_type": "stream",
     "text": [
      "\n",
      "Stats of batch 5:\n",
      "Samples: 10000\n",
      "Label Counts: {0: 1014, 1: 1014, 2: 952, 3: 1016, 4: 997, 5: 1025, 6: 980, 7: 977, 8: 1003, 9: 1022}\n",
      "First 20 Labels: [1, 8, 5, 1, 5, 7, 4, 3, 8, 2, 7, 2, 0, 1, 5, 9, 6, 2, 0, 8]\n",
      "\n",
      "Example of Image 12:\n",
      "Image - Min Value: 47 Max Value: 255\n",
      "Image - Shape: (32, 32, 3)\n",
      "Label - Label Id: 0 Name: airplane\n"
     ]
    },
    {
     "data": {
      "image/png": "[encoded data removed]",
      "text/plain": [
       "<matplotlib.figure.Figure at 0x7f844027da20>"
      ]
     },
     "metadata": {
      "image/png": {
       "height": 250,
       "width": 253
      }
     },
     "output_type": "display_data"
    }
   ],
   "source": [
    "%matplotlib inline\n",
    "%config InlineBackend.figure_format = 'retina'\n",
    "\n",
    "import helper\n",
    "import numpy as np\n",
    "\n",
    "# Explore the dataset\n",
    "batch_id = 5\n",
    "sample_id = 12\n",
    "helper.display_stats(cifar10_dataset_folder_path, batch_id, sample_id)"
   ]
  },
  {
   "cell_type": "markdown",
   "metadata": {},
   "source": [
    "## Implement Preprocess Functions\n",
    "### Normalize\n",
    "In the cell below, implement the `normalize` function to take in image data, `x`, and return it as a normalized Numpy array. The values should be in the range of 0 to 1, inclusive.  The return object should be the same shape as `x`."
   ]
  },
  {
   "cell_type": "code",
   "execution_count": 26,
   "metadata": {
    "collapsed": false
   },
   "outputs": [
    {
     "name": "stdout",
     "output_type": "stream",
     "text": [
      "Tests Passed\n"
     ]
    }
   ],
   "source": [
    "def normalize(x):\n",
    "    \"\"\"\n",
    "    Normalize a list of sample image data in the range of 0 to 1\n",
    "    : x: List of image data.  The image shape is (32, 32, 3)\n",
    "    : return: Numpy array of normalize data\n",
    "    \"\"\"\n",
    "    # TODO: Implement Function\n",
    "    x_norm = (x/255)\n",
    "    return x_norm\n",
    "\n",
    "\n",
    "\"\"\"\n",
    "DON'T MODIFY ANYTHING IN THIS CELL THAT IS BELOW THIS LINE\n",
    "\"\"\"\n",
    "tests.test_normalize(normalize)"
   ]
  },
  {
   "cell_type": "markdown",
   "metadata": {},
   "source": [
    "### One-hot encode\n",
    "Just like the previous code cell, you'll be implementing a function for preprocessing.  This time, you'll implement the `one_hot_encode` function. The input, `x`, are a list of labels.  Implement the function to return the list of labels as One-Hot encoded Numpy array.  The possible values for labels are 0 to 9. The one-hot encoding function should return the same encoding for each value between each call to `one_hot_encode`.  Make sure to save the map of encodings outside the function.\n",
    "\n",
    "Hint: Don't reinvent the wheel."
   ]
  },
  {
   "cell_type": "code",
   "execution_count": 150,
   "metadata": {
    "collapsed": false
   },
   "outputs": [
    {
     "name": "stdout",
     "output_type": "stream",
     "text": [
      "Tests Passed\n"
     ]
    }
   ],
   "source": [
    "def one_hot_encode(x):\n",
    "    \"\"\"\n",
    "    One hot encode a list of sample labels. Return a one-hot encoded vector for each label.\n",
    "    : x: List of sample Labels\n",
    "    : return: Numpy array of one-hot encoded labels\n",
    "    \"\"\"\n",
    "    # TODO: Implement Function\n",
    "    all = []\n",
    "    \n",
    "    for label in x:\n",
    "#        print(label)\n",
    "        \n",
    "        # create vector with zeros\n",
    "        lbl_vec = np.zeros(10)\n",
    "        \n",
    "        # set the appropriate value to 1.\n",
    "        lbl_vec[label] = 1.\n",
    "        \n",
    "#        print(lbl_vec)\n",
    "        \n",
    "        all.append(lbl_vec)\n",
    "    \n",
    "#    print(all)\n",
    "    return np.array(all)\n",
    "\n",
    "\n",
    "\"\"\"\n",
    "DON'T MODIFY ANYTHING IN THIS CELL THAT IS BELOW THIS LINE\n",
    "\"\"\"\n",
    "tests.test_one_hot_encode(one_hot_encode)"
   ]
  },
  {
   "cell_type": "markdown",
   "metadata": {},
   "source": [
    "### Randomize Data\n",
    "As you saw from exploring the data above, the order of the samples are randomized.  It doesn't hurt to randomize it again, but you don't need to for this dataset."
   ]
  },
  {
   "cell_type": "markdown",
   "metadata": {},
   "source": [
    "## Preprocess all the data and save it\n",
    "Running the code cell below will preprocess all the CIFAR-10 data and save it to file. The code below also uses 10% of the training data for validation."
   ]
  },
  {
   "cell_type": "code",
   "execution_count": 151,
   "metadata": {
    "collapsed": false
   },
   "outputs": [],
   "source": [
    "\"\"\"\n",
    "DON'T MODIFY ANYTHING IN THIS CELL\n",
    "\"\"\"\n",
    "# Preprocess Training, Validation, and Testing Data\n",
    "helper.preprocess_and_save_data(cifar10_dataset_folder_path, normalize, one_hot_encode)"
   ]
  },
  {
   "cell_type": "markdown",
   "metadata": {},
   "source": [
    "# Check Point\n",
    "This is your first checkpoint.  If you ever decide to come back to this notebook or have to restart the notebook, you can start from here.  The preprocessed data has been saved to disk."
   ]
  },
  {
   "cell_type": "code",
   "execution_count": 152,
   "metadata": {
    "collapsed": true
   },
   "outputs": [],
   "source": [
    "\"\"\"\n",
    "DON'T MODIFY ANYTHING IN THIS CELL\n",
    "\"\"\"\n",
    "import pickle\n",
    "import problem_unittests as tests\n",
    "import helper\n",
    "\n",
    "# Load the Preprocessed Validation data\n",
    "valid_features, valid_labels = pickle.load(open('preprocess_validation.p', mode='rb'))"
   ]
  },
  {
   "cell_type": "markdown",
   "metadata": {},
   "source": [
    "## Build the network\n",
    "For the neural network, you'll build each layer into a function.  Most of the code you've seen has been outside of functions. To test your code more thoroughly, we require that you put each layer in a function.  This allows us to give you better feedback and test for simple mistakes using our unittests before you submit your project.\n",
    "\n",
    ">**Note:** If you're finding it hard to dedicate enough time for this course each week, we've provided a small shortcut to this part of the project. In the next couple of problems, you'll have the option to use classes from the [TensorFlow Layers](https://www.tensorflow.org/api_docs/python/tf/layers) or [TensorFlow Layers (contrib)](https://www.tensorflow.org/api_guides/python/contrib.layers) packages to build each layer, except the layers you build in the \"Convolutional and Max Pooling Layer\" section.  TF Layers is similar to Keras's and TFLearn's abstraction to layers, so it's easy to pickup.\n",
    "\n",
    ">However, if you would like to get the most out of this course, try to solve all the problems _without_ using anything from the TF Layers packages. You **can** still use classes from other packages that happen to have the same name as ones you find in TF Layers! For example, instead of using the TF Layers version of the `conv2d` class, [tf.layers.conv2d](https://www.tensorflow.org/api_docs/python/tf/layers/conv2d), you would want to use the TF Neural Network version of `conv2d`, [tf.nn.conv2d](https://www.tensorflow.org/api_docs/python/tf/nn/conv2d). \n",
    "\n",
    "Let's begin!\n",
    "\n",
    "### Input\n",
    "The neural network needs to read the image data, one-hot encoded labels, and dropout keep probability. Implement the following functions\n",
    "* Implement `neural_net_image_input`\n",
    " * Return a [TF Placeholder](https://www.tensorflow.org/api_docs/python/tf/placeholder)\n",
    " * Set the shape using `image_shape` with batch size set to `None`.\n",
    " * Name the TensorFlow placeholder \"x\" using the TensorFlow `name` parameter in the [TF Placeholder](https://www.tensorflow.org/api_docs/python/tf/placeholder).\n",
    "* Implement `neural_net_label_input`\n",
    " * Return a [TF Placeholder](https://www.tensorflow.org/api_docs/python/tf/placeholder)\n",
    " * Set the shape using `n_classes` with batch size set to `None`.\n",
    " * Name the TensorFlow placeholder \"y\" using the TensorFlow `name` parameter in the [TF Placeholder](https://www.tensorflow.org/api_docs/python/tf/placeholder).\n",
    "* Implement `neural_net_keep_prob_input`\n",
    " * Return a [TF Placeholder](https://www.tensorflow.org/api_docs/python/tf/placeholder) for dropout keep probability.\n",
    " * Name the TensorFlow placeholder \"keep_prob\" using the TensorFlow `name` parameter in the [TF Placeholder](https://www.tensorflow.org/api_docs/python/tf/placeholder).\n",
    "\n",
    "These names will be used at the end of the project to load your saved model.\n",
    "\n",
    "Note: `None` for shapes in TensorFlow allow for a dynamic size."
   ]
  },
  {
   "cell_type": "code",
   "execution_count": 153,
   "metadata": {
    "collapsed": false
   },
   "outputs": [
    {
     "name": "stdout",
     "output_type": "stream",
     "text": [
      "Image Input Tests Passed.\n",
      "Label Input Tests Passed.\n",
      "Keep Prob Tests Passed.\n"
     ]
    }
   ],
   "source": [
    "import tensorflow as tf\n",
    "\n",
    "def neural_net_image_input(image_shape):\n",
    "    \"\"\"\n",
    "    Return a Tensor for a batch of image input\n",
    "    : image_shape: Shape of the images\n",
    "    : return: Tensor for image input.\n",
    "    \"\"\"\n",
    "    # TODO: Implement Function\n",
    "#    print(image_shape)\n",
    "    x = tf.placeholder(dtype=tf.float32, shape=[None, image_shape[0], image_shape[1], image_shape[2]], name='x')\n",
    "    return x\n",
    "\n",
    "\n",
    "def neural_net_label_input(n_classes):\n",
    "    \"\"\"\n",
    "    Return a Tensor for a batch of label input\n",
    "    : n_classes: Number of classes\n",
    "    : return: Tensor for label input.\n",
    "    \"\"\"\n",
    "    # TODO: Implement Function\n",
    "#    print(n_classes)\n",
    "    y = tf.placeholder(dtype=tf.float32, shape=[None, n_classes], name='y')\n",
    "    return y\n",
    "\n",
    "\n",
    "def neural_net_keep_prob_input():\n",
    "    \"\"\"\n",
    "    Return a Tensor for keep probability\n",
    "    : return: Tensor for keep probability.\n",
    "    \"\"\"\n",
    "    # TODO: Implement Function\n",
    "    keep_prob = tf.placeholder(dtype=tf.float32, name='keep_prob')\n",
    "    return keep_prob\n",
    "\n",
    "\n",
    "\"\"\"\n",
    "DON'T MODIFY ANYTHING IN THIS CELL THAT IS BELOW THIS LINE\n",
    "\"\"\"\n",
    "tf.reset_default_graph()\n",
    "tests.test_nn_image_inputs(neural_net_image_input)\n",
    "tests.test_nn_label_inputs(neural_net_label_input)\n",
    "tests.test_nn_keep_prob_inputs(neural_net_keep_prob_input)"
   ]
  },
  {
   "cell_type": "markdown",
   "metadata": {},
   "source": [
    "### Convolution and Max Pooling Layer\n",
    "Convolution layers have a lot of success with images. For this code cell, you should implement the function `conv2d_maxpool` to apply convolution then max pooling:\n",
    "* Create the weight and bias using `conv_ksize`, `conv_num_outputs` and the shape of `x_tensor`.\n",
    "* Apply a convolution to `x_tensor` using weight and `conv_strides`.\n",
    " * We recommend you use same padding, but you're welcome to use any padding.\n",
    "* Add bias\n",
    "* Add a nonlinear activation to the convolution.\n",
    "* Apply Max Pooling using `pool_ksize` and `pool_strides`.\n",
    " * We recommend you use same padding, but you're welcome to use any padding.\n",
    "\n",
    "**Note:** You **can't** use [TensorFlow Layers](https://www.tensorflow.org/api_docs/python/tf/layers) or [TensorFlow Layers (contrib)](https://www.tensorflow.org/api_guides/python/contrib.layers) for **this** layer, but you can still use TensorFlow's [Neural Network](https://www.tensorflow.org/api_docs/python/tf/nn) package. You may still use the shortcut option for all the **other** layers."
   ]
  },
  {
   "cell_type": "code",
   "execution_count": 154,
   "metadata": {
    "collapsed": false
   },
   "outputs": [
    {
     "name": "stdout",
     "output_type": "stream",
     "text": [
      "Tests Passed\n"
     ]
    }
   ],
   "source": [
    "def conv2d_maxpool(x_tensor, conv_num_outputs, conv_ksize, conv_strides, pool_ksize, pool_strides):\n",
    "    \"\"\"\n",
    "    Apply convolution then max pooling to x_tensor\n",
    "    :param x_tensor: TensorFlow Tensor\n",
    "    :param conv_num_outputs: Number of outputs for the convolutional layer\n",
    "    :param conv_ksize: kernal size 2-D Tuple for the convolutional layer\n",
    "    :param conv_strides: Stride 2-D Tuple for convolution\n",
    "    :param pool_ksize: kernal size 2-D Tuple for pool\n",
    "    :param pool_strides: Stride 2-D Tuple for pool\n",
    "    : return: A tensor that represents convolution and max pooling of x_tensor\n",
    "    \"\"\"\n",
    "    # TODO: Implement Function\n",
    "    weights = tf.Variable(tf.truncated_normal([conv_ksize[0], conv_ksize[0], x_tensor.get_shape().as_list()[3], conv_num_outputs], stddev=0.1))\n",
    "    bias = tf.Variable(tf.random_normal([conv_num_outputs]))\n",
    "    \n",
    "    # conv2d\n",
    "    x = tf.nn.conv2d(x_tensor, weights, strides=[1, conv_strides[0], conv_strides[1], 1], padding='SAME')\n",
    "    x = tf.nn.bias_add(x, bias)\n",
    "    x = tf.nn.relu(x)\n",
    "    \n",
    "    # max_pool\n",
    "    x = tf.nn.max_pool(x, ksize=[1, pool_ksize[0], pool_ksize[1], 1], strides=[1, pool_strides[0], pool_strides[1], 1], padding='SAME')\n",
    "    \n",
    "    return x \n",
    "\n",
    "\n",
    "\"\"\"\n",
    "DON'T MODIFY ANYTHING IN THIS CELL THAT IS BELOW THIS LINE\n",
    "\"\"\"\n",
    "tests.test_con_pool(conv2d_maxpool)"
   ]
  },
  {
   "cell_type": "markdown",
   "metadata": {},
   "source": [
    "### Flatten Layer\n",
    "Implement the `flatten` function to change the dimension of `x_tensor` from a 4-D tensor to a 2-D tensor.  The output should be the shape (*Batch Size*, *Flattened Image Size*). Shortcut option: you can use classes from the [TensorFlow Layers](https://www.tensorflow.org/api_docs/python/tf/layers) or [TensorFlow Layers (contrib)](https://www.tensorflow.org/api_guides/python/contrib.layers) packages for this layer. For more of a challenge, only use other TensorFlow packages."
   ]
  },
  {
   "cell_type": "code",
   "execution_count": 155,
   "metadata": {
    "collapsed": false
   },
   "outputs": [
    {
     "name": "stdout",
     "output_type": "stream",
     "text": [
      "Tests Passed\n"
     ]
    }
   ],
   "source": [
    "def flatten(x_tensor):\n",
    "    \"\"\"\n",
    "    Flatten x_tensor to (Batch Size, Flattened Image Size)\n",
    "    : x_tensor: A tensor of size (Batch Size, ...), where ... are the image dimensions.\n",
    "    : return: A tensor of size (Batch Size, Flattened Image Size).\n",
    "    \"\"\"\n",
    "    # TODO: Implement Function\n",
    "    shape = x_tensor.get_shape().as_list()\n",
    "    x_reshaped = tf.reshape(x_tensor, [-1, shape[1] * shape[2] * shape[3]])\n",
    "    \n",
    "#    print(x_reshaped.get_shape().as_list())\n",
    "    \n",
    "    return x_reshaped\n",
    "\n",
    "\n",
    "\"\"\"\n",
    "DON'T MODIFY ANYTHING IN THIS CELL THAT IS BELOW THIS LINE\n",
    "\"\"\"\n",
    "tests.test_flatten(flatten)"
   ]
  },
  {
   "cell_type": "markdown",
   "metadata": {},
   "source": [
    "### Fully-Connected Layer\n",
    "Implement the `fully_conn` function to apply a fully connected layer to `x_tensor` with the shape (*Batch Size*, *num_outputs*). Shortcut option: you can use classes from the [TensorFlow Layers](https://www.tensorflow.org/api_docs/python/tf/layers) or [TensorFlow Layers (contrib)](https://www.tensorflow.org/api_guides/python/contrib.layers) packages for this layer. For more of a challenge, only use other TensorFlow packages."
   ]
  },
  {
   "cell_type": "code",
   "execution_count": 156,
   "metadata": {
    "collapsed": false
   },
   "outputs": [
    {
     "name": "stdout",
     "output_type": "stream",
     "text": [
      "Tests Passed\n"
     ]
    }
   ],
   "source": [
    "def fully_conn(x_tensor, num_outputs):\n",
    "    \"\"\"\n",
    "    Apply a fully connected layer to x_tensor using weight and bias\n",
    "    : x_tensor: A 2-D tensor where the first dimension is batch size.\n",
    "    : num_outputs: The number of output that the new tensor should be.\n",
    "    : return: A 2-D tensor where the second dimension is num_outputs.\n",
    "    \"\"\"\n",
    "    # TODO: Implement Function\n",
    "    shape = x_tensor.get_shape().as_list()\n",
    "\n",
    "    weights = tf.Variable(tf.truncated_normal([shape[1], num_outputs], stddev=0.1))\n",
    "    bias = tf.Variable(tf.random_normal([num_outputs]))\n",
    "    \n",
    "    x = tf.add(tf.matmul(x_tensor, weights), bias)\n",
    "    \n",
    "    x = tf.nn.relu(x)\n",
    "    \n",
    "    return x\n",
    "\n",
    "\n",
    "\"\"\"\n",
    "DON'T MODIFY ANYTHING IN THIS CELL THAT IS BELOW THIS LINE\n",
    "\"\"\"\n",
    "tests.test_fully_conn(fully_conn)"
   ]
  },
  {
   "cell_type": "markdown",
   "metadata": {},
   "source": [
    "### Output Layer\n",
    "Implement the `output` function to apply a fully connected layer to `x_tensor` with the shape (*Batch Size*, *num_outputs*). Shortcut option: you can use classes from the [TensorFlow Layers](https://www.tensorflow.org/api_docs/python/tf/layers) or [TensorFlow Layers (contrib)](https://www.tensorflow.org/api_guides/python/contrib.layers) packages for this layer. For more of a challenge, only use other TensorFlow packages.\n",
    "\n",
    "**Note:** Activation, softmax, or cross entropy should **not** be applied to this."
   ]
  },
  {
   "cell_type": "code",
   "execution_count": 157,
   "metadata": {
    "collapsed": false
   },
   "outputs": [
    {
     "name": "stdout",
     "output_type": "stream",
     "text": [
      "Tests Passed\n"
     ]
    }
   ],
   "source": [
    "def output(x_tensor, num_outputs):\n",
    "    \"\"\"\n",
    "    Apply a output layer to x_tensor using weight and bias\n",
    "    : x_tensor: A 2-D tensor where the first dimension is batch size.\n",
    "    : num_outputs: The number of output that the new tensor should be.\n",
    "    : return: A 2-D tensor where the second dimension is num_outputs.\n",
    "    \"\"\"\n",
    "    # TODO: Implement Function\n",
    "    \n",
    "    shape = x_tensor.get_shape().as_list()\n",
    "\n",
    "    weights = tf.Variable(tf.truncated_normal([shape[1], num_outputs], stddev=0.1))\n",
    "    bias = tf.Variable(tf.random_normal([num_outputs]))\n",
    "    \n",
    "    x = tf.add(tf.matmul(x_tensor, weights), bias)\n",
    "    \n",
    "    return x\n",
    "\n",
    "\n",
    "\"\"\"\n",
    "DON'T MODIFY ANYTHING IN THIS CELL THAT IS BELOW THIS LINE\n",
    "\"\"\"\n",
    "tests.test_output(output)"
   ]
  },
  {
   "cell_type": "markdown",
   "metadata": {},
   "source": [
    "### Create Convolutional Model\n",
    "Implement the function `conv_net` to create a convolutional neural network model. The function takes in a batch of images, `x`, and outputs logits.  Use the layers you created above to create this model:\n",
    "\n",
    "* Apply 1, 2, or 3 Convolution and Max Pool layers\n",
    "* Apply a Flatten Layer\n",
    "* Apply 1, 2, or 3 Fully Connected Layers\n",
    "* Apply an Output Layer\n",
    "* Return the output\n",
    "* Apply [TensorFlow's Dropout](https://www.tensorflow.org/api_docs/python/tf/nn/dropout) to one or more layers in the model using `keep_prob`. "
   ]
  },
  {
   "cell_type": "code",
   "execution_count": 158,
   "metadata": {
    "collapsed": false
   },
   "outputs": [
    {
     "name": "stdout",
     "output_type": "stream",
     "text": [
      "Neural Network Built!\n"
     ]
    }
   ],
   "source": [
    "def conv_net(x, keep_prob):\n",
    "    \"\"\"\n",
    "    Create a convolutional neural network model\n",
    "    : x: Placeholder tensor that holds image data.\n",
    "    : keep_prob: Placeholder tensor that hold dropout keep probability.\n",
    "    : return: Tensor that represents logits\n",
    "    \"\"\"\n",
    "    # TODO: Apply 1, 2, or 3 Convolution and Max Pool layers\n",
    "    #    Play around with different number of outputs, kernel size and stride\n",
    "    # Function Definition from Above:\n",
    "    #    conv2d_maxpool(x_tensor, conv_num_outputs, conv_ksize, conv_strides, pool_ksize, pool_strides)\n",
    "    conv1 = conv2d_maxpool(x, 32, [5, 5], [1, 1], [2, 2], [2, 2])\n",
    "    conv2 = conv2d_maxpool(conv1, 64, [3, 3], [1, 1], [2, 2], [2, 2])\n",
    "    conv3 = conv2d_maxpool(conv2, 128, [2, 2], [1, 1], [2, 2], [2, 2])\n",
    "\n",
    "    # TODO: Apply a Flatten Layer\n",
    "    # Function Definition from Above:\n",
    "    #   flatten(x_tensor)\n",
    "    flat = flatten(conv3)\n",
    "\n",
    "    # TODO: Apply 1, 2, or 3 Fully Connected Layers\n",
    "    #    Play around with different number of outputs\n",
    "    # Function Definition from Above:\n",
    "    #   fully_conn(x_tensor, num_outputs)\n",
    "    fc1 = fully_conn(flat, 1024)\n",
    "    fc1 = tf.nn.dropout(fc1, keep_prob)\n",
    "    \n",
    "    \n",
    "    \n",
    "    # TODO: Apply an Output Layer\n",
    "    #    Set this to the number of classes\n",
    "    # Function Definition from Above:\n",
    "    #   output(x_tensor, num_outputs)\n",
    "    out = output(fc1, 10)\n",
    "    \n",
    "    # TODO: return output\n",
    "    return out\n",
    "\n",
    "\n",
    "\"\"\"\n",
    "DON'T MODIFY ANYTHING IN THIS CELL THAT IS BELOW THIS LINE\n",
    "\"\"\"\n",
    "\n",
    "##############################\n",
    "## Build the Neural Network ##\n",
    "##############################\n",
    "\n",
    "# Remove previous weights, bias, inputs, etc..\n",
    "tf.reset_default_graph()\n",
    "\n",
    "# Inputs\n",
    "x = neural_net_image_input((32, 32, 3))\n",
    "y = neural_net_label_input(10)\n",
    "keep_prob = neural_net_keep_prob_input()\n",
    "\n",
    "# Model\n",
    "logits = conv_net(x, keep_prob)\n",
    "\n",
    "# Name logits Tensor, so that is can be loaded from disk after training\n",
    "logits = tf.identity(logits, name='logits')\n",
    "\n",
    "# Loss and Optimizer\n",
    "cost = tf.reduce_mean(tf.nn.softmax_cross_entropy_with_logits(logits=logits, labels=y))\n",
    "optimizer = tf.train.AdamOptimizer().minimize(cost)\n",
    "\n",
    "# Accuracy\n",
    "correct_pred = tf.equal(tf.argmax(logits, 1), tf.argmax(y, 1))\n",
    "accuracy = tf.reduce_mean(tf.cast(correct_pred, tf.float32), name='accuracy')\n",
    "\n",
    "tests.test_conv_net(conv_net)"
   ]
  },
  {
   "cell_type": "markdown",
   "metadata": {},
   "source": [
    "## Train the Neural Network\n",
    "### Single Optimization\n",
    "Implement the function `train_neural_network` to do a single optimization.  The optimization should use `optimizer` to optimize in `session` with a `feed_dict` of the following:\n",
    "* `x` for image input\n",
    "* `y` for labels\n",
    "* `keep_prob` for keep probability for dropout\n",
    "\n",
    "This function will be called for each batch, so `tf.global_variables_initializer()` has already been called.\n",
    "\n",
    "Note: Nothing needs to be returned. This function is only optimizing the neural network."
   ]
  },
  {
   "cell_type": "code",
   "execution_count": 159,
   "metadata": {
    "collapsed": false
   },
   "outputs": [
    {
     "name": "stdout",
     "output_type": "stream",
     "text": [
      "Tests Passed\n"
     ]
    }
   ],
   "source": [
    "def train_neural_network(session, optimizer, keep_probability, feature_batch, label_batch):\n",
    "    \"\"\"\n",
    "    Optimize the session on a batch of images and labels\n",
    "    : session: Current TensorFlow session\n",
    "    : optimizer: TensorFlow optimizer function\n",
    "    : keep_probability: keep probability\n",
    "    : feature_batch: Batch of Numpy image data\n",
    "    : label_batch: Batch of Numpy label data\n",
    "    \"\"\"\n",
    "    # TODO: Implement Function\n",
    "    session.run(optimizer, feed_dict={ x: feature_batch, y: label_batch, keep_prob: keep_probability })\n",
    "    pass\n",
    "\n",
    "\n",
    "\"\"\"\n",
    "DON'T MODIFY ANYTHING IN THIS CELL THAT IS BELOW THIS LINE\n",
    "\"\"\"\n",
    "tests.test_train_nn(train_neural_network)"
   ]
  },
  {
   "cell_type": "markdown",
   "metadata": {},
   "source": [
    "### Show Stats\n",
    "Implement the function `print_stats` to print loss and validation accuracy.  Use the global variables `valid_features` and `valid_labels` to calculate validation accuracy.  Use a keep probability of `1.0` to calculate the loss and validation accuracy."
   ]
  },
  {
   "cell_type": "code",
   "execution_count": 160,
   "metadata": {
    "collapsed": false
   },
   "outputs": [],
   "source": [
    "def print_stats(session, feature_batch, label_batch, cost, accuracy):\n",
    "    \"\"\"\n",
    "    Print information about loss and validation accuracy\n",
    "    : session: Current TensorFlow session\n",
    "    : feature_batch: Batch of Numpy image data\n",
    "    : label_batch: Batch of Numpy label data\n",
    "    : cost: TensorFlow cost function\n",
    "    : accuracy: TensorFlow accuracy function\n",
    "    \"\"\"\n",
    "    # TODO: Implement Function\n",
    "    loss = session.run(cost, feed_dict={ x: feature_batch, y: label_batch, keep_prob: 1. })\n",
    "    valid_acc = session.run(accuracy, feed_dict={ x: valid_features, y: valid_labels, keep_prob: 1. })\n",
    "    \n",
    "    print('Loss: {:>10.4f} Validation Accuracy: {:.6f}'.format(loss, valid_acc))\n",
    "    pass"
   ]
  },
  {
   "cell_type": "markdown",
   "metadata": {},
   "source": [
    "### Hyperparameters\n",
    "Tune the following parameters:\n",
    "* Set `epochs` to the number of iterations until the network stops learning or start overfitting\n",
    "* Set `batch_size` to the highest number that your machine has memory for.  Most people set them to common sizes of memory:\n",
    " * 64\n",
    " * 128\n",
    " * 256\n",
    " * ...\n",
    "* Set `keep_probability` to the probability of keeping a node using dropout"
   ]
  },
  {
   "cell_type": "code",
   "execution_count": 162,
   "metadata": {
    "collapsed": true
   },
   "outputs": [],
   "source": [
    "# TODO: Tune Parameters\n",
    "epochs = 30\n",
    "batch_size = 256\n",
    "keep_probability = 0.8"
   ]
  },
  {
   "cell_type": "markdown",
   "metadata": {},
   "source": [
    "### Train on a Single CIFAR-10 Batch\n",
    "Instead of training the neural network on all the CIFAR-10 batches of data, let's use a single batch. This should save time while you iterate on the model to get a better accuracy.  Once the final validation accuracy is 50% or greater, run the model on all the data in the next section."
   ]
  },
  {
   "cell_type": "code",
   "execution_count": 140,
   "metadata": {
    "collapsed": false
   },
   "outputs": [
    {
     "name": "stdout",
     "output_type": "stream",
     "text": [
      "Checking the Training on a Single Batch...\n",
      "Epoch  1, CIFAR-10 Batch 1:  Loss:     2.2305 Validation Accuracy: 0.231800\n",
      "Epoch  2, CIFAR-10 Batch 1:  Loss:     2.1441 Validation Accuracy: 0.281000\n",
      "Epoch  3, CIFAR-10 Batch 1:  Loss:     1.9610 Validation Accuracy: 0.357600\n",
      "Epoch  4, CIFAR-10 Batch 1:  Loss:     1.9908 Validation Accuracy: 0.371600\n",
      "Epoch  5, CIFAR-10 Batch 1:  Loss:     1.7397 Validation Accuracy: 0.398000\n",
      "Epoch  6, CIFAR-10 Batch 1:  Loss:     1.6426 Validation Accuracy: 0.404400\n",
      "Epoch  7, CIFAR-10 Batch 1:  Loss:     1.5272 Validation Accuracy: 0.447200\n",
      "Epoch  8, CIFAR-10 Batch 1:  Loss:     1.5220 Validation Accuracy: 0.464200\n",
      "Epoch  9, CIFAR-10 Batch 1:  Loss:     1.4705 Validation Accuracy: 0.463800\n",
      "Epoch 10, CIFAR-10 Batch 1:  Loss:     1.3629 Validation Accuracy: 0.483000\n",
      "Epoch 11, CIFAR-10 Batch 1:  Loss:     1.3521 Validation Accuracy: 0.479000\n",
      "Epoch 12, CIFAR-10 Batch 1:  Loss:     1.3169 Validation Accuracy: 0.484600\n",
      "Epoch 13, CIFAR-10 Batch 1:  Loss:     1.2463 Validation Accuracy: 0.504600\n",
      "Epoch 14, CIFAR-10 Batch 1:  Loss:     1.1138 Validation Accuracy: 0.506400\n",
      "Epoch 15, CIFAR-10 Batch 1:  Loss:     1.0747 Validation Accuracy: 0.500600\n",
      "Epoch 16, CIFAR-10 Batch 1:  Loss:     1.0729 Validation Accuracy: 0.517000\n",
      "Epoch 17, CIFAR-10 Batch 1:  Loss:     0.9559 Validation Accuracy: 0.518400\n",
      "Epoch 18, CIFAR-10 Batch 1:  Loss:     0.8956 Validation Accuracy: 0.520400\n",
      "Epoch 19, CIFAR-10 Batch 1:  Loss:     0.8173 Validation Accuracy: 0.507200\n",
      "Epoch 20, CIFAR-10 Batch 1:  Loss:     0.8655 Validation Accuracy: 0.509800\n",
      "Epoch 21, CIFAR-10 Batch 1:  Loss:     0.7226 Validation Accuracy: 0.518600\n",
      "Epoch 22, CIFAR-10 Batch 1:  Loss:     0.6942 Validation Accuracy: 0.524600\n",
      "Epoch 23, CIFAR-10 Batch 1:  Loss:     0.6572 Validation Accuracy: 0.527600\n",
      "Epoch 24, CIFAR-10 Batch 1:  Loss:     0.6508 Validation Accuracy: 0.509600\n",
      "Epoch 25, CIFAR-10 Batch 1:  Loss:     0.6870 Validation Accuracy: 0.517600\n"
     ]
    }
   ],
   "source": [
    "\"\"\"\n",
    "DON'T MODIFY ANYTHING IN THIS CELL\n",
    "\"\"\"\n",
    "print('Checking the Training on a Single Batch...')\n",
    "with tf.Session() as sess:\n",
    "    # Initializing the variables\n",
    "    sess.run(tf.global_variables_initializer())\n",
    "    \n",
    "    # Training cycle\n",
    "    for epoch in range(epochs):\n",
    "        batch_i = 1\n",
    "        for batch_features, batch_labels in helper.load_preprocess_training_batch(batch_i, batch_size):\n",
    "            train_neural_network(sess, optimizer, keep_probability, batch_features, batch_labels)\n",
    "        print('Epoch {:>2}, CIFAR-10 Batch {}:  '.format(epoch + 1, batch_i), end='')\n",
    "        print_stats(sess, batch_features, batch_labels, cost, accuracy)"
   ]
  },
  {
   "cell_type": "markdown",
   "metadata": {},
   "source": [
    "### Fully Train the Model\n",
    "Now that you got a good accuracy with a single CIFAR-10 batch, try it with all five batches."
   ]
  },
  {
   "cell_type": "code",
   "execution_count": 163,
   "metadata": {
    "collapsed": false
   },
   "outputs": [
    {
     "name": "stdout",
     "output_type": "stream",
     "text": [
      "Training...\n",
      "Epoch  1, CIFAR-10 Batch 1:  Loss:     2.2201 Validation Accuracy: 0.267800\n",
      "Epoch  1, CIFAR-10 Batch 2:  Loss:     1.9677 Validation Accuracy: 0.342200\n",
      "Epoch  1, CIFAR-10 Batch 3:  Loss:     1.5462 Validation Accuracy: 0.373800\n",
      "Epoch  1, CIFAR-10 Batch 4:  Loss:     1.5947 Validation Accuracy: 0.413600\n",
      "Epoch  1, CIFAR-10 Batch 5:  Loss:     1.5226 Validation Accuracy: 0.452600\n",
      "Epoch  2, CIFAR-10 Batch 1:  Loss:     1.7198 Validation Accuracy: 0.446800\n",
      "Epoch  2, CIFAR-10 Batch 2:  Loss:     1.5747 Validation Accuracy: 0.471800\n",
      "Epoch  2, CIFAR-10 Batch 3:  Loss:     1.1214 Validation Accuracy: 0.459800\n",
      "Epoch  2, CIFAR-10 Batch 4:  Loss:     1.2990 Validation Accuracy: 0.472800\n",
      "Epoch  2, CIFAR-10 Batch 5:  Loss:     1.4149 Validation Accuracy: 0.482200\n",
      "Epoch  3, CIFAR-10 Batch 1:  Loss:     1.4585 Validation Accuracy: 0.490000\n",
      "Epoch  3, CIFAR-10 Batch 2:  Loss:     1.4134 Validation Accuracy: 0.500600\n",
      "Epoch  3, CIFAR-10 Batch 3:  Loss:     0.9723 Validation Accuracy: 0.506200\n",
      "Epoch  3, CIFAR-10 Batch 4:  Loss:     1.1021 Validation Accuracy: 0.535400\n",
      "Epoch  3, CIFAR-10 Batch 5:  Loss:     1.2372 Validation Accuracy: 0.528800\n",
      "Epoch  4, CIFAR-10 Batch 1:  Loss:     1.2625 Validation Accuracy: 0.527200\n",
      "Epoch  4, CIFAR-10 Batch 2:  Loss:     1.1580 Validation Accuracy: 0.547800\n",
      "Epoch  4, CIFAR-10 Batch 3:  Loss:     0.8398 Validation Accuracy: 0.533600\n",
      "Epoch  4, CIFAR-10 Batch 4:  Loss:     0.9282 Validation Accuracy: 0.552400\n",
      "Epoch  4, CIFAR-10 Batch 5:  Loss:     1.0547 Validation Accuracy: 0.550200\n",
      "Epoch  5, CIFAR-10 Batch 1:  Loss:     1.0746 Validation Accuracy: 0.550800\n",
      "Epoch  5, CIFAR-10 Batch 2:  Loss:     0.9737 Validation Accuracy: 0.567800\n",
      "Epoch  5, CIFAR-10 Batch 3:  Loss:     0.6614 Validation Accuracy: 0.538400\n",
      "Epoch  5, CIFAR-10 Batch 4:  Loss:     0.7823 Validation Accuracy: 0.576400\n",
      "Epoch  5, CIFAR-10 Batch 5:  Loss:     0.8947 Validation Accuracy: 0.564200\n",
      "Epoch  6, CIFAR-10 Batch 1:  Loss:     0.9927 Validation Accuracy: 0.578600\n",
      "Epoch  6, CIFAR-10 Batch 2:  Loss:     0.7872 Validation Accuracy: 0.585200\n",
      "Epoch  6, CIFAR-10 Batch 3:  Loss:     0.4959 Validation Accuracy: 0.578800\n",
      "Epoch  6, CIFAR-10 Batch 4:  Loss:     0.6571 Validation Accuracy: 0.597400\n",
      "Epoch  6, CIFAR-10 Batch 5:  Loss:     0.7065 Validation Accuracy: 0.592000\n",
      "Epoch  7, CIFAR-10 Batch 1:  Loss:     0.8494 Validation Accuracy: 0.574800\n",
      "Epoch  7, CIFAR-10 Batch 2:  Loss:     0.6360 Validation Accuracy: 0.590200\n",
      "Epoch  7, CIFAR-10 Batch 3:  Loss:     0.4003 Validation Accuracy: 0.588000\n",
      "Epoch  7, CIFAR-10 Batch 4:  Loss:     0.5589 Validation Accuracy: 0.594200\n",
      "Epoch  7, CIFAR-10 Batch 5:  Loss:     0.5781 Validation Accuracy: 0.606800\n",
      "Epoch  8, CIFAR-10 Batch 1:  Loss:     0.7249 Validation Accuracy: 0.593000\n",
      "Epoch  8, CIFAR-10 Batch 2:  Loss:     0.5055 Validation Accuracy: 0.610200\n",
      "Epoch  8, CIFAR-10 Batch 3:  Loss:     0.3497 Validation Accuracy: 0.577400\n",
      "Epoch  8, CIFAR-10 Batch 4:  Loss:     0.4441 Validation Accuracy: 0.608400\n",
      "Epoch  8, CIFAR-10 Batch 5:  Loss:     0.5030 Validation Accuracy: 0.603000\n",
      "Epoch  9, CIFAR-10 Batch 1:  Loss:     0.5523 Validation Accuracy: 0.610000\n",
      "Epoch  9, CIFAR-10 Batch 2:  Loss:     0.4271 Validation Accuracy: 0.612000\n",
      "Epoch  9, CIFAR-10 Batch 3:  Loss:     0.2784 Validation Accuracy: 0.589200\n",
      "Epoch  9, CIFAR-10 Batch 4:  Loss:     0.3592 Validation Accuracy: 0.616800\n",
      "Epoch  9, CIFAR-10 Batch 5:  Loss:     0.3812 Validation Accuracy: 0.620000\n",
      "Epoch 10, CIFAR-10 Batch 1:  Loss:     0.4753 Validation Accuracy: 0.620400\n",
      "Epoch 10, CIFAR-10 Batch 2:  Loss:     0.3398 Validation Accuracy: 0.606600\n",
      "Epoch 10, CIFAR-10 Batch 3:  Loss:     0.2027 Validation Accuracy: 0.603000\n",
      "Epoch 10, CIFAR-10 Batch 4:  Loss:     0.2578 Validation Accuracy: 0.621000\n",
      "Epoch 10, CIFAR-10 Batch 5:  Loss:     0.2830 Validation Accuracy: 0.620000\n",
      "Epoch 11, CIFAR-10 Batch 1:  Loss:     0.4022 Validation Accuracy: 0.632200\n",
      "Epoch 11, CIFAR-10 Batch 2:  Loss:     0.2558 Validation Accuracy: 0.624600\n",
      "Epoch 11, CIFAR-10 Batch 3:  Loss:     0.1926 Validation Accuracy: 0.606400\n",
      "Epoch 11, CIFAR-10 Batch 4:  Loss:     0.2317 Validation Accuracy: 0.633400\n",
      "Epoch 11, CIFAR-10 Batch 5:  Loss:     0.2139 Validation Accuracy: 0.632600\n",
      "Epoch 12, CIFAR-10 Batch 1:  Loss:     0.3607 Validation Accuracy: 0.627400\n",
      "Epoch 12, CIFAR-10 Batch 2:  Loss:     0.2359 Validation Accuracy: 0.628800\n",
      "Epoch 12, CIFAR-10 Batch 3:  Loss:     0.1581 Validation Accuracy: 0.625400\n",
      "Epoch 12, CIFAR-10 Batch 4:  Loss:     0.1576 Validation Accuracy: 0.631000\n",
      "Epoch 12, CIFAR-10 Batch 5:  Loss:     0.1714 Validation Accuracy: 0.634600\n",
      "Epoch 13, CIFAR-10 Batch 1:  Loss:     0.3082 Validation Accuracy: 0.621000\n",
      "Epoch 13, CIFAR-10 Batch 2:  Loss:     0.1438 Validation Accuracy: 0.627600\n",
      "Epoch 13, CIFAR-10 Batch 3:  Loss:     0.1138 Validation Accuracy: 0.638400\n",
      "Epoch 13, CIFAR-10 Batch 4:  Loss:     0.1287 Validation Accuracy: 0.635200\n",
      "Epoch 13, CIFAR-10 Batch 5:  Loss:     0.1014 Validation Accuracy: 0.635400\n",
      "Epoch 14, CIFAR-10 Batch 1:  Loss:     0.1898 Validation Accuracy: 0.639600\n",
      "Epoch 14, CIFAR-10 Batch 2:  Loss:     0.1324 Validation Accuracy: 0.638600\n",
      "Epoch 14, CIFAR-10 Batch 3:  Loss:     0.1061 Validation Accuracy: 0.640400\n",
      "Epoch 14, CIFAR-10 Batch 4:  Loss:     0.1274 Validation Accuracy: 0.625000\n",
      "Epoch 14, CIFAR-10 Batch 5:  Loss:     0.1091 Validation Accuracy: 0.620400\n",
      "Epoch 15, CIFAR-10 Batch 1:  Loss:     0.1400 Validation Accuracy: 0.648000\n",
      "Epoch 15, CIFAR-10 Batch 2:  Loss:     0.1019 Validation Accuracy: 0.652000\n",
      "Epoch 15, CIFAR-10 Batch 3:  Loss:     0.0778 Validation Accuracy: 0.639000\n",
      "Epoch 15, CIFAR-10 Batch 4:  Loss:     0.1032 Validation Accuracy: 0.632600\n",
      "Epoch 15, CIFAR-10 Batch 5:  Loss:     0.0877 Validation Accuracy: 0.636600\n",
      "Epoch 16, CIFAR-10 Batch 1:  Loss:     0.1323 Validation Accuracy: 0.653800\n",
      "Epoch 16, CIFAR-10 Batch 2:  Loss:     0.1034 Validation Accuracy: 0.644800\n",
      "Epoch 16, CIFAR-10 Batch 3:  Loss:     0.0749 Validation Accuracy: 0.632800\n",
      "Epoch 16, CIFAR-10 Batch 4:  Loss:     0.1005 Validation Accuracy: 0.639600\n",
      "Epoch 16, CIFAR-10 Batch 5:  Loss:     0.0648 Validation Accuracy: 0.654600\n",
      "Epoch 17, CIFAR-10 Batch 1:  Loss:     0.0824 Validation Accuracy: 0.649800\n",
      "Epoch 17, CIFAR-10 Batch 2:  Loss:     0.0813 Validation Accuracy: 0.638000\n",
      "Epoch 17, CIFAR-10 Batch 3:  Loss:     0.0807 Validation Accuracy: 0.617600\n",
      "Epoch 17, CIFAR-10 Batch 4:  Loss:     0.0568 Validation Accuracy: 0.635400\n",
      "Epoch 17, CIFAR-10 Batch 5:  Loss:     0.0619 Validation Accuracy: 0.655200\n",
      "Epoch 18, CIFAR-10 Batch 1:  Loss:     0.0641 Validation Accuracy: 0.652400\n",
      "Epoch 18, CIFAR-10 Batch 2:  Loss:     0.0461 Validation Accuracy: 0.645800\n",
      "Epoch 18, CIFAR-10 Batch 3:  Loss:     0.0689 Validation Accuracy: 0.638400\n",
      "Epoch 18, CIFAR-10 Batch 4:  Loss:     0.0577 Validation Accuracy: 0.610200\n",
      "Epoch 18, CIFAR-10 Batch 5:  Loss:     0.0563 Validation Accuracy: 0.664000\n",
      "Epoch 19, CIFAR-10 Batch 1:  Loss:     0.0676 Validation Accuracy: 0.661600\n",
      "Epoch 19, CIFAR-10 Batch 2:  Loss:     0.0512 Validation Accuracy: 0.640400\n",
      "Epoch 19, CIFAR-10 Batch 3:  Loss:     0.0511 Validation Accuracy: 0.641200\n",
      "Epoch 19, CIFAR-10 Batch 4:  Loss:     0.0827 Validation Accuracy: 0.604800\n",
      "Epoch 19, CIFAR-10 Batch 5:  Loss:     0.0363 Validation Accuracy: 0.660600\n",
      "Epoch 20, CIFAR-10 Batch 1:  Loss:     0.0570 Validation Accuracy: 0.654600\n",
      "Epoch 20, CIFAR-10 Batch 2:  Loss:     0.0327 Validation Accuracy: 0.632200\n",
      "Epoch 20, CIFAR-10 Batch 3:  Loss:     0.0522 Validation Accuracy: 0.649200\n",
      "Epoch 20, CIFAR-10 Batch 4:  Loss:     0.0342 Validation Accuracy: 0.633200\n",
      "Epoch 20, CIFAR-10 Batch 5:  Loss:     0.0356 Validation Accuracy: 0.654400\n",
      "Epoch 21, CIFAR-10 Batch 1:  Loss:     0.0466 Validation Accuracy: 0.661400\n",
      "Epoch 21, CIFAR-10 Batch 2:  Loss:     0.0295 Validation Accuracy: 0.625400\n",
      "Epoch 21, CIFAR-10 Batch 3:  Loss:     0.0321 Validation Accuracy: 0.634200\n",
      "Epoch 21, CIFAR-10 Batch 4:  Loss:     0.0269 Validation Accuracy: 0.645800\n",
      "Epoch 21, CIFAR-10 Batch 5:  Loss:     0.0330 Validation Accuracy: 0.654000\n",
      "Epoch 22, CIFAR-10 Batch 1:  Loss:     0.0438 Validation Accuracy: 0.638400\n",
      "Epoch 22, CIFAR-10 Batch 2:  Loss:     0.0404 Validation Accuracy: 0.630600\n",
      "Epoch 22, CIFAR-10 Batch 3:  Loss:     0.0265 Validation Accuracy: 0.629600\n",
      "Epoch 22, CIFAR-10 Batch 4:  Loss:     0.0266 Validation Accuracy: 0.644600\n",
      "Epoch 22, CIFAR-10 Batch 5:  Loss:     0.0243 Validation Accuracy: 0.652200\n",
      "Epoch 23, CIFAR-10 Batch 1:  Loss:     0.0224 Validation Accuracy: 0.637400\n",
      "Epoch 23, CIFAR-10 Batch 2:  Loss:     0.0150 Validation Accuracy: 0.640000\n",
      "Epoch 23, CIFAR-10 Batch 3:  Loss:     0.0136 Validation Accuracy: 0.653800\n",
      "Epoch 23, CIFAR-10 Batch 4:  Loss:     0.0235 Validation Accuracy: 0.658400\n",
      "Epoch 23, CIFAR-10 Batch 5:  Loss:     0.0217 Validation Accuracy: 0.647200\n",
      "Epoch 24, CIFAR-10 Batch 1:  Loss:     0.0257 Validation Accuracy: 0.633000\n",
      "Epoch 24, CIFAR-10 Batch 2:  Loss:     0.0146 Validation Accuracy: 0.641800\n",
      "Epoch 24, CIFAR-10 Batch 3:  Loss:     0.0148 Validation Accuracy: 0.650200\n",
      "Epoch 24, CIFAR-10 Batch 4:  Loss:     0.0121 Validation Accuracy: 0.656200\n",
      "Epoch 24, CIFAR-10 Batch 5:  Loss:     0.0103 Validation Accuracy: 0.656000\n",
      "Epoch 25, CIFAR-10 Batch 1:  Loss:     0.0217 Validation Accuracy: 0.636800\n",
      "Epoch 25, CIFAR-10 Batch 2:  Loss:     0.0141 Validation Accuracy: 0.631600\n",
      "Epoch 25, CIFAR-10 Batch 3:  Loss:     0.0106 Validation Accuracy: 0.646800\n",
      "Epoch 25, CIFAR-10 Batch 4:  Loss:     0.0169 Validation Accuracy: 0.638400\n",
      "Epoch 25, CIFAR-10 Batch 5:  Loss:     0.0306 Validation Accuracy: 0.630400\n",
      "Epoch 26, CIFAR-10 Batch 1:  Loss:     0.0251 Validation Accuracy: 0.635200\n",
      "Epoch 26, CIFAR-10 Batch 2:  Loss:     0.0178 Validation Accuracy: 0.645000\n",
      "Epoch 26, CIFAR-10 Batch 3:  Loss:     0.0121 Validation Accuracy: 0.655400\n",
      "Epoch 26, CIFAR-10 Batch 4:  Loss:     0.0099 Validation Accuracy: 0.640800\n",
      "Epoch 26, CIFAR-10 Batch 5:  Loss:     0.0090 Validation Accuracy: 0.639000\n",
      "Epoch 27, CIFAR-10 Batch 1:  Loss:     0.0123 Validation Accuracy: 0.652400\n",
      "Epoch 27, CIFAR-10 Batch 2:  Loss:     0.0067 Validation Accuracy: 0.649000\n",
      "Epoch 27, CIFAR-10 Batch 3:  Loss:     0.0101 Validation Accuracy: 0.654000\n",
      "Epoch 27, CIFAR-10 Batch 4:  Loss:     0.0135 Validation Accuracy: 0.640600\n",
      "Epoch 27, CIFAR-10 Batch 5:  Loss:     0.0081 Validation Accuracy: 0.644400\n",
      "Epoch 28, CIFAR-10 Batch 1:  Loss:     0.0119 Validation Accuracy: 0.633400\n",
      "Epoch 28, CIFAR-10 Batch 2:  Loss:     0.0096 Validation Accuracy: 0.651800\n",
      "Epoch 28, CIFAR-10 Batch 3:  Loss:     0.0022 Validation Accuracy: 0.658000\n",
      "Epoch 28, CIFAR-10 Batch 4:  Loss:     0.0060 Validation Accuracy: 0.641000\n",
      "Epoch 28, CIFAR-10 Batch 5:  Loss:     0.0049 Validation Accuracy: 0.639600\n",
      "Epoch 29, CIFAR-10 Batch 1:  Loss:     0.0120 Validation Accuracy: 0.637600\n",
      "Epoch 29, CIFAR-10 Batch 2:  Loss:     0.0053 Validation Accuracy: 0.656600\n",
      "Epoch 29, CIFAR-10 Batch 3:  Loss:     0.0034 Validation Accuracy: 0.655600\n",
      "Epoch 29, CIFAR-10 Batch 4:  Loss:     0.0039 Validation Accuracy: 0.649600\n",
      "Epoch 29, CIFAR-10 Batch 5:  Loss:     0.0067 Validation Accuracy: 0.637200\n",
      "Epoch 30, CIFAR-10 Batch 1:  Loss:     0.0149 Validation Accuracy: 0.640000\n",
      "Epoch 30, CIFAR-10 Batch 2:  Loss:     0.0122 Validation Accuracy: 0.641800\n",
      "Epoch 30, CIFAR-10 Batch 3:  Loss:     0.0040 Validation Accuracy: 0.660800\n",
      "Epoch 30, CIFAR-10 Batch 4:  Loss:     0.0070 Validation Accuracy: 0.642200\n",
      "Epoch 30, CIFAR-10 Batch 5:  Loss:     0.0042 Validation Accuracy: 0.642000\n"
     ]
    }
   ],
   "source": [
    "\"\"\"\n",
    "DON'T MODIFY ANYTHING IN THIS CELL\n",
    "\"\"\"\n",
    "save_model_path = './image_classification'\n",
    "\n",
    "print('Training...')\n",
    "with tf.Session() as sess:\n",
    "    # Initializing the variables\n",
    "    sess.run(tf.global_variables_initializer())\n",
    "    \n",
    "    # Training cycle\n",
    "    for epoch in range(epochs):\n",
    "        # Loop over all batches\n",
    "        n_batches = 5\n",
    "        for batch_i in range(1, n_batches + 1):\n",
    "            for batch_features, batch_labels in helper.load_preprocess_training_batch(batch_i, batch_size):\n",
    "                train_neural_network(sess, optimizer, keep_probability, batch_features, batch_labels)\n",
    "            print('Epoch {:>2}, CIFAR-10 Batch {}:  '.format(epoch + 1, batch_i), end='')\n",
    "            print_stats(sess, batch_features, batch_labels, cost, accuracy)\n",
    "            \n",
    "    # Save Model\n",
    "    saver = tf.train.Saver()\n",
    "    save_path = saver.save(sess, save_model_path)"
   ]
  },
  {
   "cell_type": "markdown",
   "metadata": {},
   "source": [
    "# Checkpoint\n",
    "The model has been saved to disk.\n",
    "## Test Model\n",
    "Test your model against the test dataset.  This will be your final accuracy. You should have an accuracy greater than 50%. If you don't, keep tweaking the model architecture and parameters."
   ]
  },
  {
   "cell_type": "code",
   "execution_count": 164,
   "metadata": {
    "collapsed": false
   },
   "outputs": [
    {
     "name": "stdout",
     "output_type": "stream",
     "text": [
      "Testing Accuracy: 0.63154296875\n",
      "\n"
     ]
    },
    {
     "data": {
      "image/png": "[encoded data removed]",
      "text/plain": [
       "<matplotlib.figure.Figure at 0x7f8438cea550>"
      ]
     },
     "metadata": {
      "image/png": {
       "height": 319,
       "width": 355
      }
     },
     "output_type": "display_data"
    }
   ],
   "source": [
    "\"\"\"\n",
    "DON'T MODIFY ANYTHING IN THIS CELL\n",
    "\"\"\"\n",
    "%matplotlib inline\n",
    "%config InlineBackend.figure_format = 'retina'\n",
    "\n",
    "import tensorflow as tf\n",
    "import pickle\n",
    "import helper\n",
    "import random\n",
    "\n",
    "# Set batch size if not already set\n",
    "try:\n",
    "    if batch_size:\n",
    "        pass\n",
    "except NameError:\n",
    "    batch_size = 64\n",
    "\n",
    "save_model_path = './image_classification'\n",
    "n_samples = 4\n",
    "top_n_predictions = 3\n",
    "\n",
    "def test_model():\n",
    "    \"\"\"\n",
    "    Test the saved model against the test dataset\n",
    "    \"\"\"\n",
    "\n",
    "    test_features, test_labels = pickle.load(open('preprocess_training.p', mode='rb'))\n",
    "    loaded_graph = tf.Graph()\n",
    "\n",
    "    with tf.Session(graph=loaded_graph) as sess:\n",
    "        # Load model\n",
    "        loader = tf.train.import_meta_graph(save_model_path + '.meta')\n",
    "        loader.restore(sess, save_model_path)\n",
    "\n",
    "        # Get Tensors from loaded model\n",
    "        loaded_x = loaded_graph.get_tensor_by_name('x:0')\n",
    "        loaded_y = loaded_graph.get_tensor_by_name('y:0')\n",
    "        loaded_keep_prob = loaded_graph.get_tensor_by_name('keep_prob:0')\n",
    "        loaded_logits = loaded_graph.get_tensor_by_name('logits:0')\n",
    "        loaded_acc = loaded_graph.get_tensor_by_name('accuracy:0')\n",
    "        \n",
    "        # Get accuracy in batches for memory limitations\n",
    "        test_batch_acc_total = 0\n",
    "        test_batch_count = 0\n",
    "        \n",
    "        for train_feature_batch, train_label_batch in helper.batch_features_labels(test_features, test_labels, batch_size):\n",
    "            test_batch_acc_total += sess.run(\n",
    "                loaded_acc,\n",
    "                feed_dict={loaded_x: train_feature_batch, loaded_y: train_label_batch, loaded_keep_prob: 1.0})\n",
    "            test_batch_count += 1\n",
    "\n",
    "        print('Testing Accuracy: {}\\n'.format(test_batch_acc_total/test_batch_count))\n",
    "\n",
    "        # Print Random Samples\n",
    "        random_test_features, random_test_labels = tuple(zip(*random.sample(list(zip(test_features, test_labels)), n_samples)))\n",
    "        random_test_predictions = sess.run(\n",
    "            tf.nn.top_k(tf.nn.softmax(loaded_logits), top_n_predictions),\n",
    "            feed_dict={loaded_x: random_test_features, loaded_y: random_test_labels, loaded_keep_prob: 1.0})\n",
    "        helper.display_image_predictions(random_test_features, random_test_labels, random_test_predictions)\n",
    "\n",
    "\n",
    "test_model()"
   ]
  },
  {
   "cell_type": "markdown",
   "metadata": {},
   "source": [
    "## Why 50-70% Accuracy?\n",
    "You might be wondering why you can't get an accuracy any higher. First things first, 50% isn't bad for a simple CNN.  Pure guessing would get you 10% accuracy. However, you might notice people are getting scores [well above 70%](http://rodrigob.github.io/are_we_there_yet/build/classification_datasets_results.html#43494641522d3130).  That's because we haven't taught you all there is to know about neural networks. We still need to cover a few more techniques.\n",
    "## Submitting This Project\n",
    "When submitting this project, make sure to run all the cells before saving the notebook.  Save the notebook file as \"dlnd_image_classification.ipynb\" and save it as a HTML file under \"File\" -> \"Download as\".  Include the \"helper.py\" and \"problem_unittests.py\" files in your submission."
   ]
  }
 ],
 "metadata": {
  "kernelspec": {
   "display_name": "Python 3",
   "language": "python",
   "name": "python3"
  },
  "language_info": {
   "codemirror_mode": {
    "name": "ipython",
    "version": 3
   },
   "file_extension": ".py",
   "mimetype": "text/x-python",
   "name": "python",
   "nbconvert_exporter": "python",
   "pygments_lexer": "ipython3",
   "version": "3.5.2"
  }
 },
 "nbformat": 4,
 "nbformat_minor": 0
}
